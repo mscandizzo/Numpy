{
 "cells": [
  {
   "cell_type": "markdown",
   "metadata": {},
   "source": [
    "### Numpy Primer\n",
    "----------------------"
   ]
  },
  {
   "cell_type": "code",
   "execution_count": 1,
   "metadata": {},
   "outputs": [],
   "source": [
    "import numpy as np\n",
    "import matplotlib.pyplot as plt\n",
    "import seaborn as sns; sns.set()\n",
    "%matplotlib inline\n",
    "import random"
   ]
  },
  {
   "cell_type": "markdown",
   "metadata": {},
   "source": [
    "### Numpy data manipulation"
   ]
  },
  {
   "cell_type": "code",
   "execution_count": 2,
   "metadata": {},
   "outputs": [
    {
     "data": {
      "text/plain": [
       "[0.0, 0.5, 1.5, 3.0, 5.0, 0.0, 0.5, 1.5, 3.0, 5.0]"
      ]
     },
     "execution_count": 2,
     "metadata": {},
     "output_type": "execute_result"
    }
   ],
   "source": [
    "# Outcome of data manipulation of a normal Python array\n",
    "l = [ 0. ,  0.5,  1.5,  3. ,  5. ]\n",
    "2 * l"
   ]
  },
  {
   "cell_type": "code",
   "execution_count": 3,
   "metadata": {},
   "outputs": [
    {
     "name": "stdout",
     "output_type": "stream",
     "text": [
      "[ 0.  1.  3.  6. 10.]\n",
      "[ 0.    0.25  2.25  9.   25.  ]\n"
     ]
    }
   ],
   "source": [
    "# Outcome of data manipulation of Numpy array\n",
    "l = np.array(l)\n",
    "print (l * 2)\n",
    "print (l ** 2)"
   ]
  },
  {
   "cell_type": "code",
   "execution_count": 4,
   "metadata": {},
   "outputs": [
    {
     "name": "stdout",
     "output_type": "stream",
     "text": [
      "[ 5.          5.35714286  5.71428571  6.07142857  6.42857143  6.78571429\n",
      "  7.14285714  7.5         7.85714286  8.21428571  8.57142857  8.92857143\n",
      "  9.28571429  9.64285714 10.        ]\n",
      "Parameters: Start, Stop, Number of data points between start and stop point\n"
     ]
    }
   ],
   "source": [
    "g = np.linspace(5, 10, 15)\n",
    "print (g)\n",
    "print ('Parameters: Start, Stop, Number of data points between start and stop point')"
   ]
  },
  {
   "cell_type": "markdown",
   "metadata": {},
   "source": [
    "### Vectorization of Code\n",
    "\n",
    "Two dummy data sets."
   ]
  },
  {
   "cell_type": "code",
   "execution_count": 5,
   "metadata": {},
   "outputs": [
    {
     "name": "stdout",
     "output_type": "stream",
     "text": [
      "[[ 0.5979909   0.83204476  0.46153519]\n",
      " [-0.90833755 -2.15974164 -0.24700226]\n",
      " [-0.48750506 -2.7975926   0.76752032]\n",
      " [-1.2314901  -1.04516582 -1.23548797]]\n",
      "----------------------------------------\n",
      "[[ 0.2568726   0.25959953  1.15572724]\n",
      " [-0.18204032  0.47165585 -1.77063832]\n",
      " [ 0.20752485  0.13689968  0.65910189]\n",
      " [-0.81238372 -0.08919235  0.21489045]]\n"
     ]
    }
   ],
   "source": [
    "r = np.random.standard_normal((4,3))\n",
    "s = np.random.standard_normal((4,3))\n",
    "print(r)\n",
    "print('-'*40)\n",
    "print(s)"
   ]
  },
  {
   "cell_type": "markdown",
   "metadata": {},
   "source": [
    "Element-wise addition."
   ]
  },
  {
   "cell_type": "code",
   "execution_count": 6,
   "metadata": {},
   "outputs": [
    {
     "data": {
      "text/plain": [
       "array([[ 0.85486349,  1.09164428,  1.61726243],\n",
       "       [-1.09037787, -1.68808579, -2.01764059],\n",
       "       [-0.27998021, -2.66069293,  1.42662221],\n",
       "       [-2.04387382, -1.13435816, -1.02059752]])"
      ]
     },
     "execution_count": 6,
     "metadata": {},
     "output_type": "execute_result"
    }
   ],
   "source": [
    "r + s"
   ]
  },
  {
   "cell_type": "markdown",
   "metadata": {},
   "source": [
    "Broadcasting"
   ]
  },
  {
   "cell_type": "code",
   "execution_count": 7,
   "metadata": {},
   "outputs": [
    {
     "data": {
      "text/plain": [
       "array([[ 4.1959818 ,  4.66408951,  3.92307037],\n",
       "       [ 1.1833249 , -1.31948327,  2.50599547],\n",
       "       [ 2.02498988, -2.59518521,  4.53504064],\n",
       "       [ 0.53701981,  0.90966837,  0.52902407]])"
      ]
     },
     "execution_count": 7,
     "metadata": {},
     "output_type": "execute_result"
    }
   ],
   "source": [
    "2 * r + 3"
   ]
  },
  {
   "cell_type": "code",
   "execution_count": 8,
   "metadata": {},
   "outputs": [],
   "source": [
    "t = np.random.standard_normal(3)\n",
    "w = np.random.standard_normal(3)"
   ]
  },
  {
   "cell_type": "code",
   "execution_count": 9,
   "metadata": {},
   "outputs": [
    {
     "data": {
      "text/plain": [
       "array([-0.08350541,  2.10609778, -0.30864684])"
      ]
     },
     "execution_count": 9,
     "metadata": {},
     "output_type": "execute_result"
    }
   ],
   "source": [
    "t.transpose() + w"
   ]
  },
  {
   "cell_type": "code",
   "execution_count": 10,
   "metadata": {},
   "outputs": [
    {
     "data": {
      "text/plain": [
       "(3,)"
      ]
     },
     "execution_count": 10,
     "metadata": {},
     "output_type": "execute_result"
    }
   ],
   "source": [
    "np.shape(t.T)"
   ]
  },
  {
   "cell_type": "markdown",
   "metadata": {},
   "source": [
    "### Basic Algebra"
   ]
  },
  {
   "cell_type": "code",
   "execution_count": 11,
   "metadata": {},
   "outputs": [
    {
     "data": {
      "text/plain": [
       "numpy.ndarray"
      ]
     },
     "execution_count": 11,
     "metadata": {},
     "output_type": "execute_result"
    }
   ],
   "source": [
    "a = np.array([0, 0.5, 1.0, 1.5, 2.0])\n",
    "type(a)"
   ]
  },
  {
   "cell_type": "code",
   "execution_count": 12,
   "metadata": {},
   "outputs": [
    {
     "data": {
      "text/plain": [
       "5.0"
      ]
     },
     "execution_count": 12,
     "metadata": {},
     "output_type": "execute_result"
    }
   ],
   "source": [
    "a.sum()"
   ]
  },
  {
   "cell_type": "code",
   "execution_count": 13,
   "metadata": {},
   "outputs": [
    {
     "data": {
      "text/plain": [
       "0.7071067811865476"
      ]
     },
     "execution_count": 13,
     "metadata": {},
     "output_type": "execute_result"
    }
   ],
   "source": [
    "a.std()"
   ]
  },
  {
   "cell_type": "code",
   "execution_count": 14,
   "metadata": {},
   "outputs": [
    {
     "data": {
      "text/plain": [
       "0.7071067811865476"
      ]
     },
     "execution_count": 14,
     "metadata": {},
     "output_type": "execute_result"
    }
   ],
   "source": [
    "a.std()"
   ]
  },
  {
   "cell_type": "code",
   "execution_count": 15,
   "metadata": {},
   "outputs": [
    {
     "data": {
      "text/plain": [
       "array([0. , 0.5, 1.5, 3. , 5. ])"
      ]
     },
     "execution_count": 15,
     "metadata": {},
     "output_type": "execute_result"
    }
   ],
   "source": [
    "a.cumsum()"
   ]
  },
  {
   "cell_type": "code",
   "execution_count": 16,
   "metadata": {},
   "outputs": [
    {
     "data": {
      "text/plain": [
       "array([0.        , 0.70710678, 1.        , 1.22474487, 1.41421356])"
      ]
     },
     "execution_count": 16,
     "metadata": {},
     "output_type": "execute_result"
    }
   ],
   "source": [
    "np.sqrt(a)"
   ]
  },
  {
   "cell_type": "code",
   "execution_count": 17,
   "metadata": {},
   "outputs": [],
   "source": [
    "a = np.array([1, 2, 3])\n",
    "b = np.array([2, 3, 4])"
   ]
  },
  {
   "cell_type": "code",
   "execution_count": 18,
   "metadata": {},
   "outputs": [
    {
     "data": {
      "text/plain": [
       "array([ 2,  6, 12])"
      ]
     },
     "execution_count": 18,
     "metadata": {},
     "output_type": "execute_result"
    }
   ],
   "source": [
    "a * b # element wise product"
   ]
  },
  {
   "cell_type": "code",
   "execution_count": 19,
   "metadata": {},
   "outputs": [
    {
     "data": {
      "text/plain": [
       "20"
      ]
     },
     "execution_count": 19,
     "metadata": {},
     "output_type": "execute_result"
    }
   ],
   "source": [
    "np.dot(a,b) # Matrix multiplication"
   ]
  },
  {
   "cell_type": "code",
   "execution_count": 20,
   "metadata": {},
   "outputs": [
    {
     "data": {
      "text/plain": [
       "20"
      ]
     },
     "execution_count": 20,
     "metadata": {},
     "output_type": "execute_result"
    }
   ],
   "source": [
    "np.inner(a,b) # Matrix similar"
   ]
  },
  {
   "cell_type": "code",
   "execution_count": 21,
   "metadata": {},
   "outputs": [
    {
     "data": {
      "text/plain": [
       "array([[ 2,  3,  4],\n",
       "       [ 4,  6,  8],\n",
       "       [ 6,  9, 12]])"
      ]
     },
     "execution_count": 21,
     "metadata": {},
     "output_type": "execute_result"
    }
   ],
   "source": [
    "o = np.outer(a,b) # It multiplies each element of vector b by each element of vector a\n",
    "o"
   ]
  },
  {
   "cell_type": "code",
   "execution_count": 22,
   "metadata": {},
   "outputs": [
    {
     "data": {
      "text/plain": [
       "array([[ 40,  60,  80],\n",
       "       [ 80, 120, 160],\n",
       "       [120, 180, 240]])"
      ]
     },
     "execution_count": 22,
     "metadata": {},
     "output_type": "execute_result"
    }
   ],
   "source": [
    "np.linalg.matrix_power(o, 2)  # matrix power o ** 2"
   ]
  },
  {
   "cell_type": "code",
   "execution_count": 23,
   "metadata": {},
   "outputs": [
    {
     "data": {
      "text/plain": [
       "array([0.00000000e+00, 2.00000000e+01, 3.33066907e-16])"
      ]
     },
     "execution_count": 23,
     "metadata": {},
     "output_type": "execute_result"
    }
   ],
   "source": [
    "np.linalg.eigvals(o)  # eigenvalues"
   ]
  },
  {
   "cell_type": "code",
   "execution_count": 24,
   "metadata": {},
   "outputs": [
    {
     "data": {
      "text/plain": [
       "(array([0.00000000e+00, 2.00000000e+01, 3.33066907e-16]),\n",
       " array([[-0.92827912,  0.26726124, -0.56069064],\n",
       "        [ 0.20628425,  0.53452248, -0.50309305],\n",
       "        [ 0.30942637,  0.80178373,  0.65766511]]))"
      ]
     },
     "execution_count": 24,
     "metadata": {},
     "output_type": "execute_result"
    }
   ],
   "source": [
    "np.linalg.eig(o)  # eigenvalues + right eigenvectors"
   ]
  },
  {
   "cell_type": "code",
   "execution_count": 25,
   "metadata": {},
   "outputs": [
    {
     "data": {
      "text/plain": [
       "24.0"
      ]
     },
     "execution_count": 25,
     "metadata": {},
     "output_type": "execute_result"
    }
   ],
   "source": [
    "np.linalg.norm(o, ord=1)  # norm of order 1"
   ]
  },
  {
   "cell_type": "code",
   "execution_count": 26,
   "metadata": {},
   "outputs": [
    {
     "data": {
      "text/plain": [
       "20.149441679609886"
      ]
     },
     "execution_count": 26,
     "metadata": {},
     "output_type": "execute_result"
    }
   ],
   "source": [
    "np.linalg.norm(o, ord=2)  # norm of order 2 (default)"
   ]
  },
  {
   "cell_type": "code",
   "execution_count": 27,
   "metadata": {},
   "outputs": [
    {
     "data": {
      "text/plain": [
       "array([ 7.48331477, 11.22497216, 14.96662955])"
      ]
     },
     "execution_count": 27,
     "metadata": {},
     "output_type": "execute_result"
    }
   ],
   "source": [
    "np.linalg.norm(o, axis=0)  # along first axis"
   ]
  },
  {
   "cell_type": "code",
   "execution_count": 28,
   "metadata": {},
   "outputs": [
    {
     "data": {
      "text/plain": [
       "array([ 5.38516481, 10.77032961, 16.15549442])"
      ]
     },
     "execution_count": 28,
     "metadata": {},
     "output_type": "execute_result"
    }
   ],
   "source": [
    "np.linalg.norm(o, axis=1)  # along second axis"
   ]
  },
  {
   "cell_type": "code",
   "execution_count": 29,
   "metadata": {},
   "outputs": [
    {
     "data": {
      "text/plain": [
       "array([[-2.43416813e-01,  4.53331821e-02,  2.05487377e+00,\n",
       "         8.33511241e-01],\n",
       "       [-8.14522156e-02,  6.01056823e-01,  7.69512171e-01,\n",
       "         1.44283972e+00],\n",
       "       [ 1.62831652e+00,  1.48721328e+00,  5.05180762e-01,\n",
       "        -1.66563997e-01],\n",
       "       [ 1.40810211e+00,  1.32007259e+00, -5.71858473e-01,\n",
       "        -1.27861303e-01],\n",
       "       [-1.38204903e-03, -6.04300113e-01, -8.72467848e-01,\n",
       "        -5.90855896e-01]])"
      ]
     },
     "execution_count": 29,
     "metadata": {},
     "output_type": "execute_result"
    }
   ],
   "source": [
    "arr11 = np.random.randn(5,4)\n",
    "arr11"
   ]
  },
  {
   "cell_type": "code",
   "execution_count": 30,
   "metadata": {},
   "outputs": [
    {
     "name": "stdout",
     "output_type": "stream",
     "text": [
      "0.44179267214231854\n",
      "0.44179267214231854\n"
     ]
    }
   ],
   "source": [
    "print (arr11.mean()) # option 1\n",
    "print (np.mean(arr11)) #option 2"
   ]
  },
  {
   "cell_type": "code",
   "execution_count": 31,
   "metadata": {},
   "outputs": [
    {
     "name": "stdout",
     "output_type": "stream",
     "text": [
      "8.835853442846371\n",
      "8.835853442846371\n"
     ]
    }
   ],
   "source": [
    "print (arr11.sum() )\n",
    "print (np.sum(arr11))"
   ]
  },
  {
   "cell_type": "code",
   "execution_count": 32,
   "metadata": {},
   "outputs": [
    {
     "data": {
      "text/plain": [
       "array([ 0.67257534,  0.68298912,  0.86353664,  0.50711373, -0.51725148])"
      ]
     },
     "execution_count": 32,
     "metadata": {},
     "output_type": "execute_result"
    }
   ],
   "source": [
    "# ROWS Mean\n",
    "arr11.mean(axis = 1)"
   ]
  },
  {
   "cell_type": "code",
   "execution_count": 33,
   "metadata": {},
   "outputs": [
    {
     "data": {
      "text/plain": [
       "array([0.54203351, 0.56987515, 0.37704808, 0.27821395])"
      ]
     },
     "execution_count": 33,
     "metadata": {},
     "output_type": "execute_result"
    }
   ],
   "source": [
    "# COLUMNS Mean\n",
    "arr11.mean(axis = 0)"
   ]
  },
  {
   "cell_type": "code",
   "execution_count": 34,
   "metadata": {},
   "outputs": [
    {
     "data": {
      "text/plain": [
       "array([[1, 2, 3],\n",
       "       [4, 5, 6],\n",
       "       [7, 8, 9]])"
      ]
     },
     "execution_count": 34,
     "metadata": {},
     "output_type": "execute_result"
    }
   ],
   "source": [
    "arr12 = np.array([[1,2,3], [4,5,6], [7,8,9]])\n",
    "arr12"
   ]
  },
  {
   "cell_type": "code",
   "execution_count": 35,
   "metadata": {},
   "outputs": [
    {
     "name": "stdout",
     "output_type": "stream",
     "text": [
      "Cumulative Sum by column\n",
      "[[ 1  2  3]\n",
      " [ 5  7  9]\n",
      " [12 15 18]]\n",
      "Cumulative Sum by row\n",
      "[[ 1  3  6]\n",
      " [ 4  9 15]\n",
      " [ 7 15 24]]\n"
     ]
    }
   ],
   "source": [
    "print ('Cumulative Sum by column')\n",
    "print (arr12.cumsum(0))\n",
    "print ('Cumulative Sum by row')\n",
    "print (arr12.cumsum(1))"
   ]
  },
  {
   "cell_type": "code",
   "execution_count": 36,
   "metadata": {},
   "outputs": [
    {
     "name": "stdout",
     "output_type": "stream",
     "text": [
      "Cumulative Product by column\n",
      "[[  1   2   3]\n",
      " [  4  10  18]\n",
      " [ 28  80 162]]\n",
      "Cumulative Product by row\n",
      "[[  1   2   6]\n",
      " [  4  20 120]\n",
      " [  7  56 504]]\n"
     ]
    }
   ],
   "source": [
    "print ('Cumulative Product by column')\n",
    "print (arr12.cumprod(0))\n",
    "print ('Cumulative Product by row')\n",
    "print (arr12.cumprod(1))"
   ]
  },
  {
   "cell_type": "markdown",
   "metadata": {},
   "source": [
    "### Most common methods:\n",
    "sum,\n",
    "mean,\n",
    "std, var,\n",
    "min,max,\n",
    "argmin, argmax,\n",
    "cumsum,\n",
    "cumprod,\n",
    "exp,\n",
    "sqrt"
   ]
  },
  {
   "cell_type": "markdown",
   "metadata": {},
   "source": [
    "### Arrays comparison"
   ]
  },
  {
   "cell_type": "code",
   "execution_count": 37,
   "metadata": {},
   "outputs": [],
   "source": [
    "arrA = np.random.randn(8)\n",
    "arrB = np.random.randn(8)"
   ]
  },
  {
   "cell_type": "code",
   "execution_count": 38,
   "metadata": {},
   "outputs": [
    {
     "data": {
      "text/plain": [
       "array([0.62460706, 0.1510896 , 0.08343006, 2.67569416, 0.74730451,\n",
       "       1.56915544, 0.26059201, 2.15137725])"
      ]
     },
     "execution_count": 38,
     "metadata": {},
     "output_type": "execute_result"
    }
   ],
   "source": [
    "np.maximum(arrA, arrB)"
   ]
  },
  {
   "cell_type": "code",
   "execution_count": 39,
   "metadata": {},
   "outputs": [
    {
     "data": {
      "text/plain": [
       "array([ 0.62460706, -0.9144302 , -1.13929151,  2.67569416,  0.74730451,\n",
       "        0.00724531,  0.26059201,  1.61982831])"
      ]
     },
     "execution_count": 39,
     "metadata": {},
     "output_type": "execute_result"
    }
   ],
   "source": [
    "arrA"
   ]
  },
  {
   "cell_type": "code",
   "execution_count": 40,
   "metadata": {},
   "outputs": [
    {
     "data": {
      "text/plain": [
       "(array([ 0.62460706, -0.9144302 , -0.13929151,  0.67569416,  0.74730451,\n",
       "         0.00724531,  0.26059201,  0.61982831]),\n",
       " array([ 0., -0., -1.,  2.,  0.,  0.,  0.,  1.]))"
      ]
     },
     "execution_count": 40,
     "metadata": {},
     "output_type": "execute_result"
    }
   ],
   "source": [
    "# Integer & Decimal components of a number\n",
    "\n",
    "np.modf(arrA) # it breaks the number into the decimals and the integer components. Creates 2 different arrays"
   ]
  },
  {
   "cell_type": "markdown",
   "metadata": {},
   "source": [
    "### How to create vectors and meshgrid"
   ]
  },
  {
   "cell_type": "code",
   "execution_count": 41,
   "metadata": {},
   "outputs": [],
   "source": [
    "points = np.arange(-1, 1, 0.01) # it creates a 1D vector"
   ]
  },
  {
   "cell_type": "code",
   "execution_count": 42,
   "metadata": {},
   "outputs": [],
   "source": [
    "xs,ys = np.meshgrid(points, points) # it creates a 2D vector combining the 1D\n"
   ]
  },
  {
   "cell_type": "code",
   "execution_count": 43,
   "metadata": {},
   "outputs": [
    {
     "data": {
      "text/plain": [
       "array([[-1.  , -0.99, -0.98, ...,  0.97,  0.98,  0.99],\n",
       "       [-1.  , -0.99, -0.98, ...,  0.97,  0.98,  0.99],\n",
       "       [-1.  , -0.99, -0.98, ...,  0.97,  0.98,  0.99],\n",
       "       ...,\n",
       "       [-1.  , -0.99, -0.98, ...,  0.97,  0.98,  0.99],\n",
       "       [-1.  , -0.99, -0.98, ...,  0.97,  0.98,  0.99],\n",
       "       [-1.  , -0.99, -0.98, ...,  0.97,  0.98,  0.99]])"
      ]
     },
     "execution_count": 43,
     "metadata": {},
     "output_type": "execute_result"
    }
   ],
   "source": [
    "xs"
   ]
  },
  {
   "cell_type": "code",
   "execution_count": 44,
   "metadata": {},
   "outputs": [
    {
     "data": {
      "text/plain": [
       "array([[-1.  , -1.  , -1.  , ..., -1.  , -1.  , -1.  ],\n",
       "       [-0.99, -0.99, -0.99, ..., -0.99, -0.99, -0.99],\n",
       "       [-0.98, -0.98, -0.98, ..., -0.98, -0.98, -0.98],\n",
       "       ...,\n",
       "       [ 0.97,  0.97,  0.97, ...,  0.97,  0.97,  0.97],\n",
       "       [ 0.98,  0.98,  0.98, ...,  0.98,  0.98,  0.98],\n",
       "       [ 0.99,  0.99,  0.99, ...,  0.99,  0.99,  0.99]])"
      ]
     },
     "execution_count": 44,
     "metadata": {},
     "output_type": "execute_result"
    }
   ],
   "source": [
    "ys"
   ]
  },
  {
   "cell_type": "code",
   "execution_count": 45,
   "metadata": {},
   "outputs": [
    {
     "data": {
      "text/plain": [
       "50"
      ]
     },
     "execution_count": 45,
     "metadata": {},
     "output_type": "execute_result"
    }
   ],
   "source": [
    "arr13 = np.random.randn(100)\n",
    "(arr13 > 0).sum() # It only sums those values greater than 0"
   ]
  },
  {
   "cell_type": "code",
   "execution_count": 46,
   "metadata": {},
   "outputs": [],
   "source": [
    "bools = np.array([False, False,True, False])"
   ]
  },
  {
   "cell_type": "code",
   "execution_count": 47,
   "metadata": {},
   "outputs": [
    {
     "data": {
      "text/plain": [
       "True"
      ]
     },
     "execution_count": 47,
     "metadata": {},
     "output_type": "execute_result"
    }
   ],
   "source": [
    "bools.any() # True if at least one True value in the array"
   ]
  },
  {
   "cell_type": "code",
   "execution_count": 48,
   "metadata": {},
   "outputs": [
    {
     "data": {
      "text/plain": [
       "False"
      ]
     },
     "execution_count": 48,
     "metadata": {},
     "output_type": "execute_result"
    }
   ],
   "source": [
    "bools.all() # True only all values are true in the array"
   ]
  },
  {
   "cell_type": "code",
   "execution_count": 49,
   "metadata": {},
   "outputs": [
    {
     "data": {
      "text/plain": [
       "array([0.04541872, 0.15608938, 0.32671533, 0.40351621, 0.41158445,\n",
       "       0.59683129, 0.63699628, 0.80360575])"
      ]
     },
     "execution_count": 49,
     "metadata": {},
     "output_type": "execute_result"
    }
   ],
   "source": [
    "arr14 = np.random.rand(8)\n",
    "arr14.sort()\n",
    "arr14"
   ]
  },
  {
   "cell_type": "code",
   "execution_count": 50,
   "metadata": {},
   "outputs": [],
   "source": [
    "arr15 = np.random.randn(5,3)"
   ]
  },
  {
   "cell_type": "code",
   "execution_count": 51,
   "metadata": {},
   "outputs": [
    {
     "name": "stdout",
     "output_type": "stream",
     "text": [
      "Sort by rows\n",
      "[[-0.10615321  0.18483633  2.07404745]\n",
      " [-0.67865569 -0.46895644  1.76326969]\n",
      " [-1.0835082  -0.31881785  1.28343443]\n",
      " [-2.6386929  -1.29582922 -1.04588391]\n",
      " [ 0.00525276  0.59364935  1.16251656]]\n",
      "Sort by columns\n",
      "[[-2.6386929  -1.29582922 -1.04588391]\n",
      " [-1.0835082  -0.46895644  1.16251656]\n",
      " [-0.67865569 -0.31881785  1.28343443]\n",
      " [-0.10615321  0.18483633  1.76326969]\n",
      " [ 0.00525276  0.59364935  2.07404745]]\n"
     ]
    }
   ],
   "source": [
    "print ('Sort by rows')\n",
    "arr15.sort(1)\n",
    "print (arr15)\n",
    "print ('Sort by columns')\n",
    "arr15.sort(0)\n",
    "print (arr15)"
   ]
  },
  {
   "cell_type": "code",
   "execution_count": 52,
   "metadata": {},
   "outputs": [
    {
     "name": "stdout",
     "output_type": "stream",
     "text": [
      "-1.5018008559303302\n",
      "-1.5018008559303302\n"
     ]
    }
   ],
   "source": [
    "# quick way to calculate the pencentile 5\n",
    "large_arr = np.random.randn(1000)\n",
    "large_arr.sort()\n",
    "print (large_arr[int(0.05 * len(large_arr))] )\n",
    "print (large_arr[50])"
   ]
  }
 ],
 "metadata": {
  "celltoolbar": "Slideshow",
  "kernelspec": {
   "display_name": "Python 3",
   "language": "python",
   "name": "python3"
  },
  "language_info": {
   "codemirror_mode": {
    "name": "ipython",
    "version": 3
   },
   "file_extension": ".py",
   "mimetype": "text/x-python",
   "name": "python",
   "nbconvert_exporter": "python",
   "pygments_lexer": "ipython3",
   "version": "3.6.6"
  }
 },
 "nbformat": 4,
 "nbformat_minor": 2
}
