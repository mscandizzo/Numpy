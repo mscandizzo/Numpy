{
 "cells": [
  {
   "cell_type": "code",
   "execution_count": 5,
   "metadata": {},
   "outputs": [],
   "source": [
    "import numpy as np"
   ]
  },
  {
   "cell_type": "code",
   "execution_count": 6,
   "metadata": {},
   "outputs": [],
   "source": [
    "def descuento(r =0.10, periods = 10):\n",
    "    arr = np.array([])\n",
    "    for i in range(1,periods+1,1):\n",
    "        factor = 1/((1+r)**i)\n",
    "        arr = np.append(arr,factor)\n",
    "    return arr"
   ]
  },
  {
   "cell_type": "code",
   "execution_count": 7,
   "metadata": {},
   "outputs": [],
   "source": [
    "def crecimiento(r =0.10, periods = 10):\n",
    "    arr = np.array([])\n",
    "    for i in range(1,periods+1,1):\n",
    "        factor = (1+r)**i\n",
    "        arr = np.append(arr,factor)\n",
    "    return arr"
   ]
  },
  {
   "cell_type": "code",
   "execution_count": 4,
   "metadata": {},
   "outputs": [
    {
     "data": {
      "text/plain": [
       "array([909.09090909, 826.44628099, 751.3148009 , 683.01345537,\n",
       "       620.92132306, 564.47393005, 513.15811823, 466.50738021,\n",
       "       424.09761837, 385.54328943])"
      ]
     },
     "execution_count": 4,
     "metadata": {},
     "output_type": "execute_result"
    }
   ],
   "source": [
    "flujo = np.repeat(1000,10)\n",
    "discount = descuento()\n",
    "resultado = flujo * discount\n",
    "resultado"
   ]
  },
  {
   "cell_type": "code",
   "execution_count": 12,
   "metadata": {},
   "outputs": [],
   "source": [
    "def factores(r,p):\n",
    "    factor = 1/((1+r)**p)\n",
    "    return factor"
   ]
  },
  {
   "cell_type": "code",
   "execution_count": 16,
   "metadata": {},
   "outputs": [
    {
     "data": {
      "text/plain": [
       "array([0.90909091, 0.75614367, 0.5787037 ])"
      ]
     },
     "execution_count": 16,
     "metadata": {},
     "output_type": "execute_result"
    }
   ],
   "source": [
    "vec1 = [.1,.15,.20]\n",
    "vec2 = range(1,len(vec1)+1)\n",
    "arr1 = np.vectorize(factores)(vec1,vec2)\n",
    "\n",
    "arr1"
   ]
  },
  {
   "cell_type": "code",
   "execution_count": null,
   "metadata": {},
   "outputs": [],
   "source": []
  }
 ],
 "metadata": {
  "kernelspec": {
   "display_name": "Python 3",
   "language": "python",
   "name": "python3"
  },
  "language_info": {
   "codemirror_mode": {
    "name": "ipython",
    "version": 3
   },
   "file_extension": ".py",
   "mimetype": "text/x-python",
   "name": "python",
   "nbconvert_exporter": "python",
   "pygments_lexer": "ipython3",
   "version": "3.6.5"
  }
 },
 "nbformat": 4,
 "nbformat_minor": 2
}
