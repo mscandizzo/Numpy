{
 "cells": [
  {
   "cell_type": "markdown",
   "metadata": {},
   "source": [
    "## Principal Component Analysis"
   ]
  },
  {
   "cell_type": "code",
   "execution_count": null,
   "metadata": {
    "uuid": "a82b3a95-9ee0-4ac3-9601-16972b7728b0"
   },
   "outputs": [],
   "source": [
    "import numpy as np\n",
    "import pandas as pd\n",
    "from pandas_datareader import data as web\n",
    "from sklearn.decomposition import KernelPCA"
   ]
  },
  {
   "cell_type": "markdown",
   "metadata": {},
   "source": [
    "### DAX Index and its 30 Stocks"
   ]
  },
  {
   "cell_type": "code",
   "execution_count": null,
   "metadata": {
    "uuid": "b5f51ac2-45b2-4a72-befd-27f38ef6f6d8"
   },
   "outputs": [],
   "source": [
    "symbols = ['ADS.DE', 'ALV.DE', 'BAS.DE', 'BAYN.DE', 'BEI.DE',\n",
    "           'BMW.DE', 'CBK.DE', 'CON.DE', 'DAI.DE', 'DB1.DE',\n",
    "           'DBK.DE', 'DPW.DE', 'DTE.DE', 'EOAN.DE', 'FME.DE',\n",
    "           'FRE.DE', 'HEI.DE', 'HEN3.DE', 'IFX.DE', 'LHA.DE',\n",
    "           'LIN.DE', 'LXS.DE', 'MRK.DE', 'MUV2.DE', 'RWE.DE',\n",
    "           'SAP.DE', 'SDF.DE', 'SIE.DE', 'TKA.DE', 'VOW3.DE',\n",
    "           '^GDAXI']"
   ]
  },
  {
   "cell_type": "code",
   "execution_count": null,
   "metadata": {
    "uuid": "1556b1fa-99da-4122-8aa7-b9e06c069a21"
   },
   "outputs": [],
   "source": [
    "%%time\n",
    "data = pd.DataFrame()\n",
    "for sym in symbols:\n",
    "    data[sym] = web.DataReader(sym, data_source='yahoo')['Close']\n",
    "data = data.dropna()"
   ]
  },
  {
   "cell_type": "code",
   "execution_count": null,
   "metadata": {
    "uuid": "b4813521-7846-4660-8391-770fea7c318f"
   },
   "outputs": [],
   "source": [
    "dax = pd.DataFrame(data.pop('^GDAXI'))"
   ]
  },
  {
   "cell_type": "code",
   "execution_count": null,
   "metadata": {
    "uuid": "03d4a81f-3bd8-47dd-a5b6-84f060fcdf97"
   },
   "outputs": [],
   "source": [
    "data[data.columns[:6]].head()"
   ]
  },
  {
   "cell_type": "markdown",
   "metadata": {},
   "source": [
    "### Applying PCA"
   ]
  },
  {
   "cell_type": "code",
   "execution_count": null,
   "metadata": {
    "uuid": "5ae896a2-8493-4d0c-978c-1b4f26ce2291"
   },
   "outputs": [],
   "source": [
    "scale_function = lambda x: (x - x.mean()) / x.std()"
   ]
  },
  {
   "cell_type": "code",
   "execution_count": null,
   "metadata": {
    "uuid": "4503ea73-aa94-4187-b9c8-cbf00564bf7a"
   },
   "outputs": [],
   "source": [
    "pca = KernelPCA().fit(data.apply(scale_function))"
   ]
  },
  {
   "cell_type": "code",
   "execution_count": null,
   "metadata": {
    "uuid": "e6f9ebd8-1d61-4047-a254-fe0e524f4c8f"
   },
   "outputs": [],
   "source": [
    "len(pca.lambdas_)"
   ]
  },
  {
   "cell_type": "code",
   "execution_count": null,
   "metadata": {
    "uuid": "1694bb38-778a-403f-82af-0129fdd3a260"
   },
   "outputs": [],
   "source": [
    "pca.lambdas_[:10].round()"
   ]
  },
  {
   "cell_type": "code",
   "execution_count": null,
   "metadata": {
    "uuid": "8c11b92d-c1ea-48dd-a47a-fb4d980b5f40"
   },
   "outputs": [],
   "source": [
    "get_we = lambda x: x / x.sum()"
   ]
  },
  {
   "cell_type": "code",
   "execution_count": null,
   "metadata": {
    "uuid": "b72fcfcb-d6f0-4101-a59b-c8df516154e8"
   },
   "outputs": [],
   "source": [
    "get_we(pca.lambdas_)[:10]"
   ]
  },
  {
   "cell_type": "code",
   "execution_count": null,
   "metadata": {
    "uuid": "d40695cd-b736-484d-bc11-4755eb1d3448"
   },
   "outputs": [],
   "source": [
    "get_we(pca.lambdas_)[:5].sum()"
   ]
  },
  {
   "cell_type": "markdown",
   "metadata": {},
   "source": [
    "### Constructing a PCA Index"
   ]
  },
  {
   "cell_type": "code",
   "execution_count": null,
   "metadata": {
    "uuid": "b4691f51-fa25-48d1-855d-907136ee39a7"
   },
   "outputs": [],
   "source": [
    "pca = KernelPCA(n_components=1).fit(data.apply(scale_function))\n",
    "dax['PCA_1'] = pca.transform(-data)"
   ]
  },
  {
   "cell_type": "code",
   "execution_count": null,
   "metadata": {
    "uuid": "9addd109-7de2-4998-b2f0-11c72c3b98da"
   },
   "outputs": [],
   "source": [
    "import matplotlib.pyplot as plt\n",
    "import seaborn as sns; sns.set()\n",
    "%matplotlib inline\n",
    "dax.apply(scale_function).plot(figsize=(8, 4))"
   ]
  },
  {
   "cell_type": "code",
   "execution_count": null,
   "metadata": {
    "uuid": "4b039aad-93a0-439b-b2d5-d24119604fa4"
   },
   "outputs": [],
   "source": [
    "pca = KernelPCA(n_components=5).fit(data.apply(scale_function))\n",
    "pca_components = pca.transform(data)\n",
    "weights = get_we(pca.lambdas_)\n",
    "dax['PCA_5'] = np.dot(pca_components, weights)"
   ]
  },
  {
   "cell_type": "code",
   "execution_count": null,
   "metadata": {
    "uuid": "fc7a90b6-167b-44dc-9a31-38d479be9026"
   },
   "outputs": [],
   "source": [
    "import matplotlib.pyplot as plt\n",
    "%matplotlib inline\n",
    "dax.apply(scale_function).plot(figsize=(8, 4))"
   ]
  },
  {
   "cell_type": "code",
   "execution_count": null,
   "metadata": {
    "uuid": "ceb357ad-d98a-4618-8e73-a6dc77a80436"
   },
   "outputs": [],
   "source": [
    "import matplotlib as mpl\n",
    "mpl_dates = mpl.dates.date2num(data.index.to_pydatetime())\n",
    "mpl_dates"
   ]
  },
  {
   "cell_type": "code",
   "execution_count": null,
   "metadata": {
    "uuid": "60ae390c-9534-4e57-bc1e-42e261d0abc9"
   },
   "outputs": [],
   "source": [
    "plt.figure(figsize=(8, 4))\n",
    "plt.scatter(dax['PCA_5'], dax['^GDAXI'], c=mpl_dates, cmap=plt.cm.coolwarm)\n",
    "lin_reg = np.polyval(np.polyfit(dax['PCA_5'],\n",
    "                                dax['^GDAXI'], 1),\n",
    "                                dax['PCA_5'])\n",
    "plt.plot(dax['PCA_5'], lin_reg, 'r', lw=3)\n",
    "plt.grid(True)\n",
    "plt.xlabel('PCA_5')\n",
    "plt.ylabel('^GDAXI')\n",
    "plt.colorbar(ticks=mpl.dates.DayLocator(interval=250),\n",
    "                format=mpl.dates.DateFormatter('%d %b %y'))"
   ]
  },
  {
   "cell_type": "code",
   "execution_count": null,
   "metadata": {
    "uuid": "2c9bea6f-bed0-49d0-83ad-a30c17b31922"
   },
   "outputs": [],
   "source": [
    "cut_date = '2011/7/1'\n",
    "early_pca = dax[dax.index < cut_date]['PCA_5']\n",
    "early_reg = np.polyval(np.polyfit(early_pca,\n",
    "                dax['^GDAXI'][dax.index < cut_date], 1),\n",
    "                early_pca)"
   ]
  },
  {
   "cell_type": "code",
   "execution_count": null,
   "metadata": {
    "uuid": "0df5fdce-32ae-4b85-836d-91355f33bb90"
   },
   "outputs": [],
   "source": [
    "late_pca = dax[dax.index >= cut_date]['PCA_5']\n",
    "late_reg = np.polyval(np.polyfit(late_pca,\n",
    "                dax['^GDAXI'][dax.index >= cut_date], 1),\n",
    "                late_pca)"
   ]
  },
  {
   "cell_type": "code",
   "execution_count": null,
   "metadata": {
    "uuid": "ad8b2336-b13f-49a2-92b9-3f7b340be327"
   },
   "outputs": [],
   "source": [
    "plt.figure(figsize=(8, 4))\n",
    "plt.scatter(dax['PCA_5'], dax['^GDAXI'], c=mpl_dates, cmap=plt.cm.coolwarm)\n",
    "plt.plot(early_pca, early_reg, 'r', lw=3)\n",
    "plt.plot(late_pca, late_reg, 'r', lw=3)\n",
    "plt.grid(True)\n",
    "plt.xlabel('PCA_5')\n",
    "plt.ylabel('^GDAXI')\n",
    "plt.colorbar(ticks=mpl.dates.DayLocator(interval=250),\n",
    "                format=mpl.dates.DateFormatter('%d %b %y'))"
   ]
  }
 ],
 "metadata": {
  "kernelspec": {
   "display_name": "Python 3",
   "language": "python",
   "name": "python3"
  },
  "language_info": {
   "codemirror_mode": {
    "name": "ipython",
    "version": 3
   },
   "file_extension": ".py",
   "mimetype": "text/x-python",
   "name": "python",
   "nbconvert_exporter": "python",
   "pygments_lexer": "ipython3",
   "version": "3.6.4"
  }
 },
 "nbformat": 4,
 "nbformat_minor": 1
}
