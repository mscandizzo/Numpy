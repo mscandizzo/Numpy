{
 "cells": [
  {
   "cell_type": "markdown",
   "metadata": {},
   "source": [
    "### Numpy Primer\n",
    "----------------------"
   ]
  },
  {
   "cell_type": "markdown",
   "metadata": {},
   "source": [
    "### Arrays using Python Lists\n",
    "---------------------------------\n",
    "\n",
    "Let us set a benchmark using pure Python. \n",
    "\n",
    "First, a `vector` as `list` object."
   ]
  },
  {
   "cell_type": "code",
   "execution_count": 159,
   "metadata": {},
   "outputs": [],
   "source": [
    "v = [0.5, 0.75, 1.0, 1.5, 2.0]  # vector of numbers"
   ]
  },
  {
   "cell_type": "markdown",
   "metadata": {},
   "source": [
    "Second, a `matrix` as `list of list`."
   ]
  },
  {
   "cell_type": "code",
   "execution_count": 160,
   "metadata": {},
   "outputs": [
    {
     "data": {
      "text/plain": [
       "[[0.5, 0.75, 1.0, 1.5, 2.0],\n",
       " [0.5, 0.75, 1.0, 1.5, 2.0],\n",
       " [0.5, 0.75, 1.0, 1.5, 2.0]]"
      ]
     },
     "execution_count": 160,
     "metadata": {},
     "output_type": "execute_result"
    }
   ],
   "source": [
    "m = [v, v, v]  # matrix of numbers\n",
    "m"
   ]
  },
  {
   "cell_type": "code",
   "execution_count": 161,
   "metadata": {},
   "outputs": [
    {
     "data": {
      "text/plain": [
       "[0.5, 0.75, 1.0, 1.5, 2.0]"
      ]
     },
     "execution_count": 161,
     "metadata": {},
     "output_type": "execute_result"
    }
   ],
   "source": [
    "m[1]"
   ]
  },
  {
   "cell_type": "code",
   "execution_count": 162,
   "metadata": {},
   "outputs": [
    {
     "data": {
      "text/plain": [
       "0.5"
      ]
     },
     "execution_count": 162,
     "metadata": {},
     "output_type": "execute_result"
    }
   ],
   "source": [
    "m[1][0]"
   ]
  },
  {
   "cell_type": "markdown",
   "metadata": {},
   "source": [
    "Third, a `tensor` as a `nested list`."
   ]
  },
  {
   "cell_type": "code",
   "execution_count": 134,
   "metadata": {},
   "outputs": [
    {
     "data": {
      "text/plain": [
       "[[[0.5, 1.5], [1, 2]], [[0.5, 1.5], [1, 2]]]"
      ]
     },
     "execution_count": 134,
     "metadata": {},
     "output_type": "execute_result"
    }
   ],
   "source": [
    "v1 = [0.5, 1.5]\n",
    "v2 = [1, 2]\n",
    "m = [v1, v2]\n",
    "c = [m, m]  # cube of numbers\n",
    "c"
   ]
  },
  {
   "cell_type": "code",
   "execution_count": 135,
   "metadata": {},
   "outputs": [
    {
     "data": {
      "text/plain": [
       "1"
      ]
     },
     "execution_count": 135,
     "metadata": {},
     "output_type": "execute_result"
    }
   ],
   "source": [
    "c[1][1][0]"
   ]
  },
  {
   "cell_type": "code",
   "execution_count": 163,
   "metadata": {},
   "outputs": [
    {
     "data": {
      "text/plain": [
       "[[0.5, 0.75, 1.0, 1.5, 2.0],\n",
       " [0.5, 0.75, 1.0, 1.5, 2.0],\n",
       " [0.5, 0.75, 1.0, 1.5, 2.0]]"
      ]
     },
     "execution_count": 163,
     "metadata": {},
     "output_type": "execute_result"
    }
   ],
   "source": [
    "v = [0.5, 0.75, 1.0, 1.5, 2.0]\n",
    "m = [v, v, v]\n",
    "m"
   ]
  },
  {
   "cell_type": "code",
   "execution_count": 137,
   "metadata": {},
   "outputs": [
    {
     "data": {
      "text/plain": [
       "[['Python', 0.75, 1.0, 1.5, 2.0],\n",
       " ['Python', 0.75, 1.0, 1.5, 2.0],\n",
       " ['Python', 0.75, 1.0, 1.5, 2.0]]"
      ]
     },
     "execution_count": 137,
     "metadata": {},
     "output_type": "execute_result"
    }
   ],
   "source": [
    "v[0] = 'Python'\n",
    "m"
   ]
  },
  {
   "cell_type": "markdown",
   "metadata": {},
   "source": [
    "#### What just happened? \n",
    "\n",
    "Python does not really create a copy of an object when `=` is used. What it does is to create a pointer in memory where `m` points in memory to `v`, hence, under the hood `m` is not a new object but rather a reference to the existing object `v`.\n",
    "To create a new object / space in memory , Python has a built-in library to handle copy operations."
   ]
  },
  {
   "cell_type": "code",
   "execution_count": 138,
   "metadata": {},
   "outputs": [
    {
     "data": {
      "text/plain": [
       "[[0.5, 0.75, 1.0, 1.5, 2.0],\n",
       " [0.5, 0.75, 1.0, 1.5, 2.0],\n",
       " [0.5, 0.75, 1.0, 1.5, 2.0]]"
      ]
     },
     "execution_count": 138,
     "metadata": {},
     "output_type": "execute_result"
    }
   ],
   "source": [
    "from copy import deepcopy\n",
    "v = [0.5, 0.75, 1.0, 1.5, 2.0]\n",
    "m = 3 * [deepcopy(v), ]\n",
    "m"
   ]
  },
  {
   "cell_type": "code",
   "execution_count": 139,
   "metadata": {},
   "outputs": [
    {
     "data": {
      "text/plain": [
       "[[0.5, 0.75, 1.0, 1.5, 2.0],\n",
       " [0.5, 0.75, 1.0, 1.5, 2.0],\n",
       " [0.5, 0.75, 1.0, 1.5, 2.0]]"
      ]
     },
     "execution_count": 139,
     "metadata": {},
     "output_type": "execute_result"
    }
   ],
   "source": [
    "v[0] = 'Python'\n",
    "m"
   ]
  },
  {
   "cell_type": "markdown",
   "metadata": {},
   "source": [
    "### Numpy Data Structures\n",
    "\n",
    "#### Regular Numpy Arrays\n",
    "\n",
    "Numpy is a cornerstone in the Python scientific and PyData ecosystem.\n",
    "\n",
    "It provides a powerful `ndarray` class for the handling of multi-dimensional arrays."
   ]
  },
  {
   "cell_type": "code",
   "execution_count": 164,
   "metadata": {},
   "outputs": [],
   "source": [
    "import numpy as np\n",
    "import matplotlib.pyplot as plt\n",
    "import seaborn as sns; sns.set()\n",
    "%matplotlib inline\n",
    "import random"
   ]
  },
  {
   "cell_type": "code",
   "execution_count": 165,
   "metadata": {},
   "outputs": [],
   "source": [
    "data2 = [[1,2,3,4],[5,6,7,8]]"
   ]
  },
  {
   "cell_type": "code",
   "execution_count": 166,
   "metadata": {},
   "outputs": [
    {
     "data": {
      "text/plain": [
       "array([[1, 2, 3, 4],\n",
       "       [5, 6, 7, 8]])"
      ]
     },
     "execution_count": 166,
     "metadata": {},
     "output_type": "execute_result"
    }
   ],
   "source": [
    "arr2 = np.array(data2)\n",
    "arr2"
   ]
  },
  {
   "cell_type": "code",
   "execution_count": 167,
   "metadata": {},
   "outputs": [
    {
     "name": "stdout",
     "output_type": "stream",
     "text": [
      "2\n",
      "(2, 4)\n",
      "int32\n"
     ]
    }
   ],
   "source": [
    "print (arr2.ndim) # Counts the number of subarrays\n",
    "print (arr2.shape) # matrix shape\n",
    "print (arr2.dtype) # type of elements in the array"
   ]
  },
  {
   "cell_type": "code",
   "execution_count": 168,
   "metadata": {},
   "outputs": [
    {
     "name": "stdout",
     "output_type": "stream",
     "text": [
      "Creating an array with 0s as elements\n"
     ]
    },
    {
     "data": {
      "text/plain": [
       "array([0., 0., 0., 0., 0., 0., 0., 0.])"
      ]
     },
     "execution_count": 168,
     "metadata": {},
     "output_type": "execute_result"
    }
   ],
   "source": [
    "print ('Creating an array with 0s as elements')\n",
    "np.zeros(8)"
   ]
  },
  {
   "cell_type": "code",
   "execution_count": 169,
   "metadata": {},
   "outputs": [
    {
     "data": {
      "text/plain": [
       "array([[0., 0., 0., 0.],\n",
       "       [0., 0., 0., 0.]])"
      ]
     },
     "execution_count": 169,
     "metadata": {},
     "output_type": "execute_result"
    }
   ],
   "source": [
    "np.zeros((2,4))"
   ]
  },
  {
   "cell_type": "code",
   "execution_count": 170,
   "metadata": {},
   "outputs": [
    {
     "name": "stdout",
     "output_type": "stream",
     "text": [
      "It creates an array 1s as elements\n"
     ]
    },
    {
     "data": {
      "text/plain": [
       "array([[1., 1., 1.],\n",
       "       [1., 1., 1.]])"
      ]
     },
     "execution_count": 170,
     "metadata": {},
     "output_type": "execute_result"
    }
   ],
   "source": [
    "print ('It creates an array 1s as elements')\n",
    "np.ones((2,3)) "
   ]
  },
  {
   "cell_type": "code",
   "execution_count": 171,
   "metadata": {},
   "outputs": [
    {
     "name": "stdout",
     "output_type": "stream",
     "text": [
      "It creates the identity matrix , size should be provided\n"
     ]
    },
    {
     "data": {
      "text/plain": [
       "array([[1., 0., 0.],\n",
       "       [0., 1., 0.],\n",
       "       [0., 0., 1.]])"
      ]
     },
     "execution_count": 171,
     "metadata": {},
     "output_type": "execute_result"
    }
   ],
   "source": [
    "print ('It creates the identity matrix , size should be provided')\n",
    "np.eye(3) "
   ]
  },
  {
   "cell_type": "code",
   "execution_count": 172,
   "metadata": {},
   "outputs": [],
   "source": [
    "arr3 = np.array([1.1,2.2,3.3,4.4])"
   ]
  },
  {
   "cell_type": "code",
   "execution_count": 177,
   "metadata": {},
   "outputs": [
    {
     "name": "stdout",
     "output_type": "stream",
     "text": [
      "It changes from floating to integer by truncating the number\n",
      "arr3: Integers  [1 2 3 4]\n",
      "It does not change the original data structure\n",
      "arr3:  [1.1 2.2 3.3 4.4]\n"
     ]
    }
   ],
   "source": [
    "print ('It changes from floating to integer by truncating the number')\n",
    "print('arr3: Integers ',arr3.astype(np.int32))\n",
    "print ('It does not change the original data structure')\n",
    "print('arr3: ',arr3) "
   ]
  },
  {
   "cell_type": "code",
   "execution_count": 178,
   "metadata": {},
   "outputs": [
    {
     "name": "stdout",
     "output_type": "stream",
     "text": [
      "It retrieves an specific element in the array\n",
      "3.3\n"
     ]
    }
   ],
   "source": [
    "print ('It retrieves an specific element in the array')\n",
    "print (arr3[2])"
   ]
  },
  {
   "cell_type": "markdown",
   "metadata": {},
   "source": [
    "### Structured Arrays"
   ]
  },
  {
   "cell_type": "code",
   "execution_count": 179,
   "metadata": {},
   "outputs": [
    {
     "data": {
      "text/plain": [
       "array([(b'Smith', 45, 1.83, [0, 1]), (b'Jones', 53, 1.72, [2, 2])],\n",
       "      dtype=[('Name', 'S10'), ('Age', '<i4'), ('Height', '<f4'), ('Children/Pets', '<i4', (2,))])"
      ]
     },
     "execution_count": 179,
     "metadata": {},
     "output_type": "execute_result"
    }
   ],
   "source": [
    "dt = np.dtype([('Name', 'S10'), ('Age', 'i4'),\n",
    "               ('Height', 'f'), ('Children/Pets', 'i4', 2)])\n",
    "s = np.array([('Smith', 45, 1.83, (0, 1)),\n",
    "              ('Jones', 53, 1.72, (2, 2))], dtype=dt)\n",
    "s"
   ]
  },
  {
   "cell_type": "code",
   "execution_count": 148,
   "metadata": {},
   "outputs": [
    {
     "data": {
      "text/plain": [
       "array([b'Smith', b'Jones'], dtype='|S10')"
      ]
     },
     "execution_count": 148,
     "metadata": {},
     "output_type": "execute_result"
    }
   ],
   "source": [
    "s['Name']"
   ]
  },
  {
   "cell_type": "code",
   "execution_count": 149,
   "metadata": {},
   "outputs": [
    {
     "data": {
      "text/plain": [
       "1.7750001"
      ]
     },
     "execution_count": 149,
     "metadata": {},
     "output_type": "execute_result"
    }
   ],
   "source": [
    "s['Height'].mean()"
   ]
  },
  {
   "cell_type": "code",
   "execution_count": 150,
   "metadata": {},
   "outputs": [
    {
     "data": {
      "text/plain": [
       "53"
      ]
     },
     "execution_count": 150,
     "metadata": {},
     "output_type": "execute_result"
    }
   ],
   "source": [
    "s[1]['Age']"
   ]
  },
  {
   "cell_type": "markdown",
   "metadata": {},
   "source": [
    "## Arrays Manipulation\n",
    "----------------------------------------------"
   ]
  },
  {
   "cell_type": "code",
   "execution_count": 12,
   "metadata": {},
   "outputs": [
    {
     "data": {
      "text/plain": [
       "array([0, 1, 2, 3, 4, 5, 6, 7, 8, 9])"
      ]
     },
     "execution_count": 12,
     "metadata": {},
     "output_type": "execute_result"
    }
   ],
   "source": [
    "arr4 = np.arange(10)\n",
    "arr4"
   ]
  },
  {
   "cell_type": "code",
   "execution_count": 13,
   "metadata": {},
   "outputs": [
    {
     "name": "stdout",
     "output_type": "stream",
     "text": [
      "It changes the values of specific positions in the array\n",
      "[ 0  1  2  3  4  5 12 12  8  9]\n",
      "Note: in mathematical terms (6:8], 6 exclusive & 8 inclusive\n"
     ]
    }
   ],
   "source": [
    "print ('It changes the values of specific positions in the array')\n",
    "arr4[6:8] = 12 \n",
    "print (arr4)\n",
    "print ('Note: in mathematical terms (6:8], 6 exclusive & 8 inclusive')"
   ]
  },
  {
   "cell_type": "code",
   "execution_count": 14,
   "metadata": {},
   "outputs": [],
   "source": [
    "arr_slice = arr4[6:8]"
   ]
  },
  {
   "cell_type": "code",
   "execution_count": 15,
   "metadata": {},
   "outputs": [
    {
     "name": "stdout",
     "output_type": "stream",
     "text": [
      "Changes in this array will affect the values of the original array too\n",
      "[   12 12345]\n",
      "Note: keep in mind that by using [1], it is only modifying one element of the subarray\n"
     ]
    }
   ],
   "source": [
    "print ('Changes in this array will affect the values of the original array too')\n",
    "arr_slice[1] = 12345 \n",
    "print (arr_slice)\n",
    "print ('Note: keep in mind that by using [1], it is only modifying one element of the subarray')"
   ]
  },
  {
   "cell_type": "code",
   "execution_count": 16,
   "metadata": {},
   "outputs": [
    {
     "data": {
      "text/plain": [
       "array([    0,     1,     2,     3,     4,     5,    12, 12345,     8,\n",
       "           9])"
      ]
     },
     "execution_count": 16,
     "metadata": {},
     "output_type": "execute_result"
    }
   ],
   "source": [
    "arr4"
   ]
  },
  {
   "cell_type": "code",
   "execution_count": 17,
   "metadata": {},
   "outputs": [],
   "source": [
    "arr_slice[:] = 64 # Changes will affect the source"
   ]
  },
  {
   "cell_type": "code",
   "execution_count": 18,
   "metadata": {},
   "outputs": [
    {
     "data": {
      "text/plain": [
       "array([ 0,  1,  2,  3,  4,  5, 64, 64,  8,  9])"
      ]
     },
     "execution_count": 18,
     "metadata": {},
     "output_type": "execute_result"
    }
   ],
   "source": [
    "arr4"
   ]
  },
  {
   "cell_type": "code",
   "execution_count": 19,
   "metadata": {},
   "outputs": [
    {
     "name": "stdout",
     "output_type": "stream",
     "text": [
      "Full Array\n",
      "[[1 2 3]\n",
      " [4 5 6]\n",
      " [7 8 9]]\n",
      "Sub Array\n",
      "[7 8 9]\n",
      "Single Element\n",
      "9\n"
     ]
    }
   ],
   "source": [
    "arr5 = np.array([[1,2,3],[4,5,6],[7,8,9]]) # Finding elements in the array\n",
    "print ('Full Array')\n",
    "print (arr5)\n",
    "print ('Sub Array')\n",
    "print (arr5[2])\n",
    "print ('Single Element')\n",
    "print (arr5[2][2])"
   ]
  },
  {
   "cell_type": "markdown",
   "metadata": {},
   "source": [
    "### Array notation\n",
    "\n",
    "To retrieve elements you can use [:]\n",
    "\n",
    "        * [x:] : Tells numpy to take the elements AFTER x so it will include x\n",
    "        * [:y] : Tells numpy to take the elments BEFORE y so it won't include y"
   ]
  },
  {
   "cell_type": "code",
   "execution_count": 20,
   "metadata": {},
   "outputs": [
    {
     "data": {
      "text/plain": [
       "array([[1, 2, 3],\n",
       "       [4, 5, 6]])"
      ]
     },
     "execution_count": 20,
     "metadata": {},
     "output_type": "execute_result"
    }
   ],
   "source": [
    "arr5[:2]"
   ]
  },
  {
   "cell_type": "code",
   "execution_count": 180,
   "metadata": {},
   "outputs": [
    {
     "name": "stdout",
     "output_type": "stream",
     "text": [
      "Here the filtering is at arrays level\n",
      "Note: the array positions start from 1 not from 0\n",
      "[[4 5 6]]\n"
     ]
    }
   ],
   "source": [
    "print ('Here the filtering is at arrays level')\n",
    "print ('Note: the array positions start from 1 not from 0')\n",
    "print (arr5[:2][1:] )"
   ]
  },
  {
   "cell_type": "code",
   "execution_count": 22,
   "metadata": {},
   "outputs": [
    {
     "name": "stdout",
     "output_type": "stream",
     "text": [
      "Here the 1st filter is array level, the 2nd filters the elements of the arrays selected\n"
     ]
    },
    {
     "data": {
      "text/plain": [
       "array([[2, 3],\n",
       "       [5, 6]])"
      ]
     },
     "execution_count": 22,
     "metadata": {},
     "output_type": "execute_result"
    }
   ],
   "source": [
    "print ('Here the 1st filter is array level, the 2nd filters the elements of the arrays selected')\n",
    "arr5[:2, 1:] "
   ]
  },
  {
   "cell_type": "code",
   "execution_count": 181,
   "metadata": {},
   "outputs": [
    {
     "name": "stdout",
     "output_type": "stream",
     "text": [
      "This will basicalle take the first subelement of all the first level elements\n",
      "[[1]\n",
      " [4]\n",
      " [7]]\n",
      "[1 4 7]\n"
     ]
    }
   ],
   "source": [
    "print ('This will basicalle take the first subelement of all the first level elements')\n",
    "print (arr5[:,:1] )\n",
    "print (arr5[:,0] )"
   ]
  },
  {
   "cell_type": "code",
   "execution_count": 184,
   "metadata": {},
   "outputs": [
    {
     "name": "stdout",
     "output_type": "stream",
     "text": [
      "Searching for matching values between arrays\n",
      "in1d returns boolean results (True, False) if matching values are found\n"
     ]
    },
    {
     "data": {
      "text/plain": [
       "array([ True, False, False,  True,  True, False,  True])"
      ]
     },
     "execution_count": 184,
     "metadata": {},
     "output_type": "execute_result"
    }
   ],
   "source": [
    "print('Searching for matching values between arrays')\n",
    "print('in1d returns boolean results (True, False) if matching values are found')\n",
    "\n",
    "values = np.array([6,0,0,3,2,5,6])\n",
    "np.in1d(values,[2,3,6])"
   ]
  },
  {
   "cell_type": "code",
   "execution_count": 185,
   "metadata": {},
   "outputs": [
    {
     "data": {
      "text/plain": [
       "array([[-0.11860878,  0.9452709 ,  1.47668675, -1.02649898],\n",
       "       [ 1.35011047, -1.49707197, -0.95029487,  0.3502206 ],\n",
       "       [-0.25261505, -0.99740481, -1.07668642, -0.56633833],\n",
       "       [-0.98681807,  1.05802912, -0.84016438,  0.30205751],\n",
       "       [-0.96819917, -0.22339655, -0.85926634, -0.72667096],\n",
       "       [-1.24550938, -0.81288628,  1.35452108, -0.52652476],\n",
       "       [-0.16736618, -1.60201924, -0.74709722, -0.07315014]])"
      ]
     },
     "execution_count": 185,
     "metadata": {},
     "output_type": "execute_result"
    }
   ],
   "source": [
    "data1 = np.random.randn(7,4)\n",
    "data1"
   ]
  },
  {
   "cell_type": "code",
   "execution_count": 26,
   "metadata": {},
   "outputs": [],
   "source": [
    "names = np.array(['Bob', 'Joe', 'Will', 'Bob', 'Will', 'Joe', 'Joe'])"
   ]
  },
  {
   "cell_type": "code",
   "execution_count": 186,
   "metadata": {},
   "outputs": [
    {
     "name": "stdout",
     "output_type": "stream",
     "text": [
      "Searching for specific element within an array --> Boleean outcome\n"
     ]
    },
    {
     "data": {
      "text/plain": [
       "array([ True, False, False,  True, False, False, False])"
      ]
     },
     "execution_count": 186,
     "metadata": {},
     "output_type": "execute_result"
    }
   ],
   "source": [
    "print('Searching for specific element within an array --> Boleean outcome')\n",
    "\n",
    "names == 'Bob'"
   ]
  },
  {
   "cell_type": "code",
   "execution_count": 28,
   "metadata": {},
   "outputs": [
    {
     "data": {
      "text/plain": [
       "array(['Bob', 'Joe', 'Will'], dtype='<U4')"
      ]
     },
     "execution_count": 28,
     "metadata": {},
     "output_type": "execute_result"
    }
   ],
   "source": [
    "np.unique(names)"
   ]
  },
  {
   "cell_type": "code",
   "execution_count": 29,
   "metadata": {},
   "outputs": [
    {
     "data": {
      "text/plain": [
       "array([[ 1.7638468 , -0.08284182,  0.76275288,  0.79571876],\n",
       "       [ 1.09938751,  0.79444638, -0.20877485,  0.17427767]])"
      ]
     },
     "execution_count": 29,
     "metadata": {},
     "output_type": "execute_result"
    }
   ],
   "source": [
    "data1[names == 'Bob'] "
   ]
  },
  {
   "cell_type": "markdown",
   "metadata": {},
   "source": [
    "If you look at the text array the 1st & 4th Elements are true while the rest are false.\n",
    "\n",
    "The data1 array is 7 x 4 matrix, so the columns lenght match the number of elements in the names array.\n",
    "\n",
    "Python will select the 1st & 4th Element on each column"
   ]
  },
  {
   "cell_type": "code",
   "execution_count": 30,
   "metadata": {},
   "outputs": [
    {
     "data": {
      "text/plain": [
       "array([[ 0.76275288,  0.79571876],\n",
       "       [-0.20877485,  0.17427767]])"
      ]
     },
     "execution_count": 30,
     "metadata": {},
     "output_type": "execute_result"
    }
   ],
   "source": [
    "data1[names == 'Bob', 2:] # once applied the boolean logic I only pick the values from 2 column onwards"
   ]
  },
  {
   "cell_type": "code",
   "execution_count": 31,
   "metadata": {},
   "outputs": [
    {
     "data": {
      "text/plain": [
       "array([0.17427767])"
      ]
     },
     "execution_count": 31,
     "metadata": {},
     "output_type": "execute_result"
    }
   ],
   "source": [
    "data1[names == 'Bob', 3:][1] # further selection to pick one exact element"
   ]
  },
  {
   "cell_type": "code",
   "execution_count": 32,
   "metadata": {},
   "outputs": [
    {
     "data": {
      "text/plain": [
       "array([[-0.63867435,  1.29664608, -0.53428756, -1.27911094, -0.32731178,\n",
       "        -1.19561728, -0.13434224],\n",
       "       [ 0.29701249, -0.24750353,  0.42990422,  1.52871611, -2.02687924,\n",
       "        -0.61125146, -0.79289062],\n",
       "       [ 1.671526  ,  0.86339541,  0.81893264, -1.16854703, -0.50889209,\n",
       "        -0.549736  ,  0.06692816],\n",
       "       [-0.9775776 ,  2.01156599,  0.25231596,  0.25500331,  0.12483558,\n",
       "        -0.36229885, -1.0813427 ],\n",
       "       [ 0.48029923,  0.9511657 ,  1.04922564,  1.76271781,  0.35622628,\n",
       "        -0.90913189,  0.94771913],\n",
       "       [ 0.55895899,  0.37265617, -0.97999865, -0.08381148, -0.25614   ,\n",
       "         0.63655643, -0.46857406],\n",
       "       [ 2.95893587,  0.00778949, -0.3917376 , -0.42134958, -1.61030086,\n",
       "        -2.21530628, -0.13055327]])"
      ]
     },
     "execution_count": 32,
     "metadata": {},
     "output_type": "execute_result"
    }
   ],
   "source": [
    "data2 = np.random.randn(7,7)\n",
    "data2"
   ]
  },
  {
   "cell_type": "code",
   "execution_count": 33,
   "metadata": {},
   "outputs": [
    {
     "data": {
      "text/plain": [
       "array([[-0.63867435,  1.29664608, -0.53428756, -1.27911094, -0.32731178,\n",
       "        -1.19561728, -0.13434224],\n",
       "       [-0.9775776 ,  2.01156599,  0.25231596,  0.25500331,  0.12483558,\n",
       "        -0.36229885, -1.0813427 ]])"
      ]
     },
     "execution_count": 33,
     "metadata": {},
     "output_type": "execute_result"
    }
   ],
   "source": [
    "data2[names == 'Bob'] "
   ]
  },
  {
   "cell_type": "markdown",
   "metadata": {},
   "source": [
    "The data2 array is a 7 x 7 Matrix so now Python will select the 1st & 4th elements by row"
   ]
  },
  {
   "cell_type": "code",
   "execution_count": 34,
   "metadata": {},
   "outputs": [
    {
     "data": {
      "text/plain": [
       "array([ True, False,  True,  True,  True, False, False])"
      ]
     },
     "execution_count": 34,
     "metadata": {},
     "output_type": "execute_result"
    }
   ],
   "source": [
    "mask = (names == 'Bob')|(names == 'Will') # the operator | means OR \n",
    "mask"
   ]
  },
  {
   "cell_type": "code",
   "execution_count": 35,
   "metadata": {},
   "outputs": [
    {
     "data": {
      "text/plain": [
       "array([[ 1.7638468 , -0.08284182,  0.76275288,  0.79571876],\n",
       "       [ 0.66383601, -0.27607183, -0.04504136, -0.49755731],\n",
       "       [ 1.09938751,  0.79444638, -0.20877485,  0.17427767],\n",
       "       [ 0.35715679, -0.36192803,  0.18158439,  0.66398993]])"
      ]
     },
     "execution_count": 35,
     "metadata": {},
     "output_type": "execute_result"
    }
   ],
   "source": [
    "data1[(names == 'Bob')|(names == 'Will')] \n",
    "# It selects the 1st, 3rd, 4th & 5th element by column"
   ]
  },
  {
   "cell_type": "markdown",
   "metadata": {},
   "source": [
    "### How to select elements from an Array & assign specific values to them"
   ]
  },
  {
   "cell_type": "code",
   "execution_count": 36,
   "metadata": {},
   "outputs": [
    {
     "data": {
      "text/plain": [
       "array([[1.7638468 , 0.        , 0.76275288, 0.79571876],\n",
       "       [0.10222734, 0.        , 0.40456916, 1.06234451],\n",
       "       [0.66383601, 0.        , 0.        , 0.        ],\n",
       "       [1.09938751, 0.79444638, 0.        , 0.17427767],\n",
       "       [0.35715679, 0.        , 0.18158439, 0.66398993],\n",
       "       [0.70892007, 2.37116214, 1.84157436, 0.09054819],\n",
       "       [0.        , 1.29414837, 0.66132037, 0.87787974]])"
      ]
     },
     "execution_count": 36,
     "metadata": {},
     "output_type": "execute_result"
    }
   ],
   "source": [
    "data1[data1 <0] = 0\n",
    "data1"
   ]
  },
  {
   "cell_type": "code",
   "execution_count": 37,
   "metadata": {},
   "outputs": [
    {
     "data": {
      "text/plain": [
       "array([[7.        , 7.        , 7.        , 7.        ],\n",
       "       [0.10222734, 0.        , 0.40456916, 1.06234451],\n",
       "       [0.66383601, 0.        , 0.        , 0.        ],\n",
       "       [7.        , 7.        , 7.        , 7.        ],\n",
       "       [0.35715679, 0.        , 0.18158439, 0.66398993],\n",
       "       [0.70892007, 2.37116214, 1.84157436, 0.09054819],\n",
       "       [0.        , 1.29414837, 0.66132037, 0.87787974]])"
      ]
     },
     "execution_count": 37,
     "metadata": {},
     "output_type": "execute_result"
    }
   ],
   "source": [
    "# The matching True values for one array \n",
    "# can be used to filter/match values on a different array\n",
    "data1[names == 'Bob'] = 7 # When you found a value which is True you replace with a 7\n",
    "data1"
   ]
  },
  {
   "cell_type": "code",
   "execution_count": 38,
   "metadata": {},
   "outputs": [
    {
     "data": {
      "text/plain": [
       "array([[8.80194862e-225, 3.78040817e-215, 1.47343590e-210,\n",
       "        8.93744565e-307],\n",
       "       [1.98297705e-293, 1.02282195e-303, 3.32653436e-111,\n",
       "        1.53446210e-253],\n",
       "       [4.40198080e-312, 7.37831513e+149, 7.33723594e+223,\n",
       "        9.74575168e+199],\n",
       "       [3.64912337e+233, 2.85678800e+151, 8.14130954e-301,\n",
       "        1.35538465e+224],\n",
       "       [8.14591183e+149, 3.51018757e+151, 7.30147238e+175,\n",
       "        4.74150013e-312],\n",
       "       [6.86684785e+149, 2.65141237e+180, 1.17337634e-275,\n",
       "        2.86842797e+291],\n",
       "       [3.68050223e-312, 1.88296875e-305, 4.27255576e+180,\n",
       "        8.42961547e+252],\n",
       "       [3.67118808e+228, 3.33825417e+151, 2.18060051e+241,\n",
       "        2.70227676e-309]])"
      ]
     },
     "execution_count": 38,
     "metadata": {},
     "output_type": "execute_result"
    }
   ],
   "source": [
    "arr6 = np.empty([8,4]) # It creates an empty array\n",
    "arr6\n",
    "# The array it is actually empty the values are not 0 altough the graphical representation seems like it"
   ]
  },
  {
   "cell_type": "code",
   "execution_count": 39,
   "metadata": {},
   "outputs": [
    {
     "data": {
      "text/plain": [
       "array([[0., 0., 0., 0.],\n",
       "       [1., 1., 1., 1.],\n",
       "       [2., 2., 2., 2.],\n",
       "       [3., 3., 3., 3.],\n",
       "       [4., 4., 4., 4.],\n",
       "       [5., 5., 5., 5.],\n",
       "       [6., 6., 6., 6.],\n",
       "       [7., 7., 7., 7.]])"
      ]
     },
     "execution_count": 39,
     "metadata": {},
     "output_type": "execute_result"
    }
   ],
   "source": [
    "# Fill an array by rows\n",
    "\n",
    "for i in range(8):\n",
    "    arr6[i] = i # what i am doing is assigning i to each of the elements in each row in the array\n",
    "arr6"
   ]
  },
  {
   "cell_type": "code",
   "execution_count": 40,
   "metadata": {},
   "outputs": [
    {
     "data": {
      "text/plain": [
       "array([[4., 4., 4., 4.],\n",
       "       [3., 3., 3., 3.],\n",
       "       [0., 0., 0., 0.],\n",
       "       [6., 6., 6., 6.]])"
      ]
     },
     "execution_count": 40,
     "metadata": {},
     "output_type": "execute_result"
    }
   ],
   "source": [
    "arr6[[4,3,0,6]] # it selects the rows I am requesting"
   ]
  },
  {
   "cell_type": "code",
   "execution_count": 41,
   "metadata": {},
   "outputs": [
    {
     "data": {
      "text/plain": [
       "array([[5., 5., 5., 5.],\n",
       "       [3., 3., 3., 3.],\n",
       "       [1., 1., 1., 1.]])"
      ]
     },
     "execution_count": 41,
     "metadata": {},
     "output_type": "execute_result"
    }
   ],
   "source": [
    "arr6[[-3,-5,-7]] # it selects the rows but in this case starting from the bottom"
   ]
  },
  {
   "cell_type": "code",
   "execution_count": 42,
   "metadata": {},
   "outputs": [
    {
     "data": {
      "text/plain": [
       "array([[0., 1., 2., 3.],\n",
       "       [0., 1., 2., 3.],\n",
       "       [0., 1., 2., 3.],\n",
       "       [0., 1., 2., 3.],\n",
       "       [0., 1., 2., 3.],\n",
       "       [0., 1., 2., 3.],\n",
       "       [0., 1., 2., 3.],\n",
       "       [0., 1., 2., 3.]])"
      ]
     },
     "execution_count": 42,
     "metadata": {},
     "output_type": "execute_result"
    }
   ],
   "source": [
    "# Fill an array by columns\n",
    "\n",
    "for i in range(4):\n",
    "    arr6[:,i] = i # in this case I assigning the same value to the elements in the column instead of the row\n",
    "arr6"
   ]
  },
  {
   "cell_type": "code",
   "execution_count": 43,
   "metadata": {},
   "outputs": [
    {
     "data": {
      "text/plain": [
       "array([[ 0,  1,  2,  3],\n",
       "       [ 4,  5,  6,  7],\n",
       "       [ 8,  9, 10, 11],\n",
       "       [12, 13, 14, 15],\n",
       "       [16, 17, 18, 19],\n",
       "       [20, 21, 22, 23],\n",
       "       [24, 25, 26, 27],\n",
       "       [28, 29, 30, 31]])"
      ]
     },
     "execution_count": 43,
     "metadata": {},
     "output_type": "execute_result"
    }
   ],
   "source": [
    "arr7 = np.arange(32).reshape(8,4) \n",
    "# It takes a sequence of values and converts them into a matrix\n",
    "arr7"
   ]
  },
  {
   "cell_type": "code",
   "execution_count": 44,
   "metadata": {},
   "outputs": [
    {
     "name": "stdout",
     "output_type": "stream",
     "text": [
      "4\n",
      "4\n"
     ]
    }
   ],
   "source": [
    "# How to select an element in an array\n",
    "print (arr7[1,0] )\n",
    "print (arr7[1][0])"
   ]
  },
  {
   "cell_type": "code",
   "execution_count": 45,
   "metadata": {},
   "outputs": [
    {
     "name": "stdout",
     "output_type": "stream",
     "text": [
      "[ 4 23 29 10]\n",
      "4\n",
      "23\n",
      "29\n",
      "10\n"
     ]
    }
   ],
   "source": [
    "print (arr7[[1,5,7,2], # this vector gives you the row position\n",
    "     [0,3,1,2]]) # the vector gives you the column position\n",
    "\n",
    "# It is equivalent to individually select:\n",
    "print (arr7[1,0])\n",
    "print (arr7[5,3])\n",
    "print (arr7[7,1])\n",
    "print (arr7[2,2])"
   ]
  },
  {
   "cell_type": "markdown",
   "metadata": {},
   "source": [
    "### Select sub arrays and change their order"
   ]
  },
  {
   "cell_type": "code",
   "execution_count": 46,
   "metadata": {},
   "outputs": [
    {
     "data": {
      "text/plain": [
       "array([[ 4,  7,  5,  6],\n",
       "       [20, 23, 21, 22],\n",
       "       [28, 31, 29, 30],\n",
       "       [ 8, 11,  9, 10]])"
      ]
     },
     "execution_count": 46,
     "metadata": {},
     "output_type": "execute_result"
    }
   ],
   "source": [
    "# The 1st vector picks rows and the 2nd one scramble the numbers on each row\n",
    "arr7[[1,5,7,2]][:,[0,3,1,2]] "
   ]
  },
  {
   "cell_type": "code",
   "execution_count": 47,
   "metadata": {},
   "outputs": [
    {
     "data": {
      "text/plain": [
       "array([[ 4,  7,  5,  6],\n",
       "       [20, 23, 21, 22],\n",
       "       [28, 31, 29, 30],\n",
       "       [ 8, 11,  9, 10]])"
      ]
     },
     "execution_count": 47,
     "metadata": {},
     "output_type": "execute_result"
    }
   ],
   "source": [
    "# same as previous but using a built in function\n",
    "arr7[np.ix_([1,5,7,2], [0,3,1,2])] "
   ]
  },
  {
   "cell_type": "code",
   "execution_count": 48,
   "metadata": {},
   "outputs": [
    {
     "data": {
      "text/plain": [
       "array([[ 0,  1,  2,  3,  4],\n",
       "       [ 5,  6,  7,  8,  9],\n",
       "       [10, 11, 12, 13, 14]])"
      ]
     },
     "execution_count": 48,
     "metadata": {},
     "output_type": "execute_result"
    }
   ],
   "source": [
    "arr8 = np.arange(15).reshape((3,5))\n",
    "arr8"
   ]
  },
  {
   "cell_type": "code",
   "execution_count": 49,
   "metadata": {},
   "outputs": [
    {
     "data": {
      "text/plain": [
       "array([[ 0,  5, 10],\n",
       "       [ 1,  6, 11],\n",
       "       [ 2,  7, 12],\n",
       "       [ 3,  8, 13],\n",
       "       [ 4,  9, 14]])"
      ]
     },
     "execution_count": 49,
     "metadata": {},
     "output_type": "execute_result"
    }
   ],
   "source": [
    "arr8.T # The T method transposes the array, don't forget it is an array not a matrix"
   ]
  },
  {
   "cell_type": "code",
   "execution_count": 50,
   "metadata": {},
   "outputs": [
    {
     "data": {
      "text/plain": [
       "array([[-0.5203673 , -0.80964414, -0.54545354],\n",
       "       [ 0.05194676, -2.47987508,  1.22462211],\n",
       "       [-1.06189915, -0.42694342, -0.08935768],\n",
       "       [-0.67361458, -1.17496771,  0.47853672],\n",
       "       [ 0.01059406,  0.11257488, -1.39100891],\n",
       "       [-0.12453954,  1.37436676,  1.79290633]])"
      ]
     },
     "execution_count": 50,
     "metadata": {},
     "output_type": "execute_result"
    }
   ],
   "source": [
    "arr9 = np.random.randn(6,3)\n",
    "arr9"
   ]
  },
  {
   "cell_type": "code",
   "execution_count": 51,
   "metadata": {},
   "outputs": [
    {
     "data": {
      "text/plain": [
       "array([[ 1.87048932,  1.3673667 , -0.11803328],\n",
       "       [ 1.3673667 , 10.26969093, -0.81188291],\n",
       "       [-0.11803328, -0.81188291,  7.18361995]])"
      ]
     },
     "execution_count": 51,
     "metadata": {},
     "output_type": "execute_result"
    }
   ],
   "source": [
    "np.dot(arr9.T, arr9) # Matrix multiplication"
   ]
  },
  {
   "cell_type": "code",
   "execution_count": 187,
   "metadata": {},
   "outputs": [
    {
     "data": {
      "text/plain": [
       "array([[[ 0,  1,  2,  3],\n",
       "        [ 4,  5,  6,  7]],\n",
       "\n",
       "       [[ 8,  9, 10, 11],\n",
       "        [12, 13, 14, 15]]])"
      ]
     },
     "execution_count": 187,
     "metadata": {},
     "output_type": "execute_result"
    }
   ],
   "source": [
    "arr10 = np.arange(16).reshape((2,2,4)) # This is a Tensor\n",
    "# Notation: (2,2,4)\n",
    "# 2: number of vectors\n",
    "# 2: number of rows\n",
    "# 4: number of columns\n",
    "arr10"
   ]
  },
  {
   "cell_type": "code",
   "execution_count": 53,
   "metadata": {},
   "outputs": [
    {
     "data": {
      "text/plain": [
       "array([[[ 0,  4],\n",
       "        [ 1,  5],\n",
       "        [ 2,  6],\n",
       "        [ 3,  7]],\n",
       "\n",
       "       [[ 8, 12],\n",
       "        [ 9, 13],\n",
       "        [10, 14],\n",
       "        [11, 15]]])"
      ]
     },
     "execution_count": 53,
     "metadata": {},
     "output_type": "execute_result"
    }
   ],
   "source": [
    "arr10.swapaxes(1,2) # it swaps the axis of the vectors"
   ]
  },
  {
   "cell_type": "markdown",
   "metadata": {},
   "source": [
    "### Numpy data manipulation"
   ]
  },
  {
   "cell_type": "code",
   "execution_count": 58,
   "metadata": {},
   "outputs": [
    {
     "data": {
      "text/plain": [
       "[0.0, 0.5, 1.5, 3.0, 5.0, 0.0, 0.5, 1.5, 3.0, 5.0]"
      ]
     },
     "execution_count": 58,
     "metadata": {},
     "output_type": "execute_result"
    }
   ],
   "source": [
    "# Outcome of data manipulation of a normal Python array\n",
    "l = [ 0. ,  0.5,  1.5,  3. ,  5. ]\n",
    "2 * l"
   ]
  },
  {
   "cell_type": "code",
   "execution_count": 59,
   "metadata": {},
   "outputs": [
    {
     "name": "stdout",
     "output_type": "stream",
     "text": [
      "[ 0.  1.  3.  6. 10.]\n",
      "[ 0.    0.25  2.25  9.   25.  ]\n"
     ]
    }
   ],
   "source": [
    "# Outcome of data manipulation of Numpy array\n",
    "l = np.array(l)\n",
    "print (l * 2)\n",
    "print (l ** 2)"
   ]
  },
  {
   "cell_type": "code",
   "execution_count": 60,
   "metadata": {},
   "outputs": [
    {
     "name": "stdout",
     "output_type": "stream",
     "text": [
      "[ 5.          5.35714286  5.71428571  6.07142857  6.42857143  6.78571429\n",
      "  7.14285714  7.5         7.85714286  8.21428571  8.57142857  8.92857143\n",
      "  9.28571429  9.64285714 10.        ]\n",
      "Parameters: Start, Stop, Number of data points between start and stop point\n"
     ]
    }
   ],
   "source": [
    "g = np.linspace(5, 10, 15)\n",
    "print (g)\n",
    "print ('Parameters: Start, Stop, Number of data points between start and stop point')"
   ]
  },
  {
   "cell_type": "markdown",
   "metadata": {},
   "source": [
    "### Vectorization of Code\n",
    "\n",
    "Two dummy data sets."
   ]
  },
  {
   "cell_type": "code",
   "execution_count": 153,
   "metadata": {},
   "outputs": [
    {
     "name": "stdout",
     "output_type": "stream",
     "text": [
      "[[ 0.02440842 -2.96953565 -1.50461113]\n",
      " [-0.44693098 -1.50010978 -0.33560517]\n",
      " [-1.44492003 -1.04462808  0.96320229]\n",
      " [-1.76920812 -0.26146375  0.91130008]]\n",
      "----------------------------------------\n",
      "[[ 0.18886152  1.00674024 -1.41441518]\n",
      " [ 2.17267077  0.15356955 -1.09638102]\n",
      " [ 0.23289824 -1.39872012  0.53287793]\n",
      " [-0.49438526 -0.82112768  0.43194482]]\n"
     ]
    }
   ],
   "source": [
    "r = np.random.standard_normal((4,3))\n",
    "s = np.random.standard_normal((4,3))\n",
    "print(r)\n",
    "print('-'*40)\n",
    "print(s)"
   ]
  },
  {
   "cell_type": "markdown",
   "metadata": {},
   "source": [
    "Element-wise addition."
   ]
  },
  {
   "cell_type": "code",
   "execution_count": 154,
   "metadata": {},
   "outputs": [
    {
     "data": {
      "text/plain": [
       "array([[ 0.21326994, -1.96279541, -2.91902631],\n",
       "       [ 1.72573979, -1.34654023, -1.43198619],\n",
       "       [-1.21202179, -2.4433482 ,  1.49608022],\n",
       "       [-2.26359338, -1.08259143,  1.3432449 ]])"
      ]
     },
     "execution_count": 154,
     "metadata": {},
     "output_type": "execute_result"
    }
   ],
   "source": [
    "r + s"
   ]
  },
  {
   "cell_type": "markdown",
   "metadata": {},
   "source": [
    "Broadcasting"
   ]
  },
  {
   "cell_type": "code",
   "execution_count": 155,
   "metadata": {},
   "outputs": [
    {
     "data": {
      "text/plain": [
       "array([[ 3.04881685e+00, -2.93907131e+00, -9.22226104e-03],\n",
       "       [ 2.10613804e+00, -2.19565925e-04,  2.32878967e+00],\n",
       "       [ 1.10159947e-01,  9.10743840e-01,  4.92640458e+00],\n",
       "       [-5.38416240e-01,  2.47707251e+00,  4.82260016e+00]])"
      ]
     },
     "execution_count": 155,
     "metadata": {},
     "output_type": "execute_result"
    }
   ],
   "source": [
    "2 * r + 3"
   ]
  },
  {
   "cell_type": "code",
   "execution_count": 156,
   "metadata": {},
   "outputs": [],
   "source": [
    "t = np.random.standard_normal(3)\n",
    "w = np.random.standard_normal(3)"
   ]
  },
  {
   "cell_type": "code",
   "execution_count": 157,
   "metadata": {},
   "outputs": [
    {
     "data": {
      "text/plain": [
       "array([ 1.12328402, -1.53481002,  0.50525101])"
      ]
     },
     "execution_count": 157,
     "metadata": {},
     "output_type": "execute_result"
    }
   ],
   "source": [
    "t.transpose() + w"
   ]
  },
  {
   "cell_type": "code",
   "execution_count": 158,
   "metadata": {},
   "outputs": [
    {
     "data": {
      "text/plain": [
       "(3,)"
      ]
     },
     "execution_count": 158,
     "metadata": {},
     "output_type": "execute_result"
    }
   ],
   "source": [
    "np.shape(t.T)"
   ]
  },
  {
   "cell_type": "markdown",
   "metadata": {},
   "source": [
    "### Basic Algebra"
   ]
  },
  {
   "cell_type": "code",
   "execution_count": 140,
   "metadata": {},
   "outputs": [
    {
     "data": {
      "text/plain": [
       "numpy.ndarray"
      ]
     },
     "execution_count": 140,
     "metadata": {},
     "output_type": "execute_result"
    }
   ],
   "source": [
    "a = np.array([0, 0.5, 1.0, 1.5, 2.0])\n",
    "type(a)"
   ]
  },
  {
   "cell_type": "code",
   "execution_count": 141,
   "metadata": {},
   "outputs": [
    {
     "data": {
      "text/plain": [
       "5.0"
      ]
     },
     "execution_count": 141,
     "metadata": {},
     "output_type": "execute_result"
    }
   ],
   "source": [
    "a.sum()"
   ]
  },
  {
   "cell_type": "code",
   "execution_count": 142,
   "metadata": {},
   "outputs": [
    {
     "data": {
      "text/plain": [
       "0.7071067811865476"
      ]
     },
     "execution_count": 142,
     "metadata": {},
     "output_type": "execute_result"
    }
   ],
   "source": [
    "a.std()"
   ]
  },
  {
   "cell_type": "code",
   "execution_count": 143,
   "metadata": {},
   "outputs": [
    {
     "data": {
      "text/plain": [
       "0.7071067811865476"
      ]
     },
     "execution_count": 143,
     "metadata": {},
     "output_type": "execute_result"
    }
   ],
   "source": [
    "a.std()"
   ]
  },
  {
   "cell_type": "code",
   "execution_count": 144,
   "metadata": {},
   "outputs": [
    {
     "data": {
      "text/plain": [
       "array([0. , 0.5, 1.5, 3. , 5. ])"
      ]
     },
     "execution_count": 144,
     "metadata": {},
     "output_type": "execute_result"
    }
   ],
   "source": [
    "a.cumsum()"
   ]
  },
  {
   "cell_type": "code",
   "execution_count": 146,
   "metadata": {},
   "outputs": [
    {
     "data": {
      "text/plain": [
       "array([0.        , 0.70710678, 1.        , 1.22474487, 1.41421356])"
      ]
     },
     "execution_count": 146,
     "metadata": {},
     "output_type": "execute_result"
    }
   ],
   "source": [
    "np.sqrt(a)"
   ]
  },
  {
   "cell_type": "code",
   "execution_count": 61,
   "metadata": {},
   "outputs": [],
   "source": [
    "a = np.array([1, 2, 3])\n",
    "b = np.array([2, 3, 4])"
   ]
  },
  {
   "cell_type": "code",
   "execution_count": 62,
   "metadata": {},
   "outputs": [
    {
     "data": {
      "text/plain": [
       "array([ 2,  6, 12])"
      ]
     },
     "execution_count": 62,
     "metadata": {},
     "output_type": "execute_result"
    }
   ],
   "source": [
    "a * b # element wise product"
   ]
  },
  {
   "cell_type": "code",
   "execution_count": 63,
   "metadata": {},
   "outputs": [
    {
     "data": {
      "text/plain": [
       "20"
      ]
     },
     "execution_count": 63,
     "metadata": {},
     "output_type": "execute_result"
    }
   ],
   "source": [
    "np.dot(a,b) # Matrix multiplication"
   ]
  },
  {
   "cell_type": "code",
   "execution_count": 64,
   "metadata": {},
   "outputs": [
    {
     "data": {
      "text/plain": [
       "20"
      ]
     },
     "execution_count": 64,
     "metadata": {},
     "output_type": "execute_result"
    }
   ],
   "source": [
    "np.inner(a,b) # Matrix similar"
   ]
  },
  {
   "cell_type": "code",
   "execution_count": 65,
   "metadata": {},
   "outputs": [
    {
     "data": {
      "text/plain": [
       "array([[ 2,  3,  4],\n",
       "       [ 4,  6,  8],\n",
       "       [ 6,  9, 12]])"
      ]
     },
     "execution_count": 65,
     "metadata": {},
     "output_type": "execute_result"
    }
   ],
   "source": [
    "o = np.outer(a,b) # It multiplies each element of vector b by each element of vector a\n",
    "o"
   ]
  },
  {
   "cell_type": "code",
   "execution_count": 66,
   "metadata": {},
   "outputs": [
    {
     "data": {
      "text/plain": [
       "array([[ 40,  60,  80],\n",
       "       [ 80, 120, 160],\n",
       "       [120, 180, 240]])"
      ]
     },
     "execution_count": 66,
     "metadata": {},
     "output_type": "execute_result"
    }
   ],
   "source": [
    "np.linalg.matrix_power(o, 2)  # matrix power o ** 2"
   ]
  },
  {
   "cell_type": "code",
   "execution_count": 67,
   "metadata": {},
   "outputs": [
    {
     "data": {
      "text/plain": [
       "array([0.00000000e+00, 2.00000000e+01, 3.33066907e-16])"
      ]
     },
     "execution_count": 67,
     "metadata": {},
     "output_type": "execute_result"
    }
   ],
   "source": [
    "np.linalg.eigvals(o)  # eigenvalues"
   ]
  },
  {
   "cell_type": "code",
   "execution_count": 68,
   "metadata": {},
   "outputs": [
    {
     "data": {
      "text/plain": [
       "(array([0.00000000e+00, 2.00000000e+01, 3.33066907e-16]),\n",
       " array([[-0.92827912,  0.26726124, -0.56069064],\n",
       "        [ 0.20628425,  0.53452248, -0.50309305],\n",
       "        [ 0.30942637,  0.80178373,  0.65766511]]))"
      ]
     },
     "execution_count": 68,
     "metadata": {},
     "output_type": "execute_result"
    }
   ],
   "source": [
    "np.linalg.eig(o)  # eigenvalues + right eigenvectors"
   ]
  },
  {
   "cell_type": "code",
   "execution_count": 69,
   "metadata": {},
   "outputs": [
    {
     "data": {
      "text/plain": [
       "24.0"
      ]
     },
     "execution_count": 69,
     "metadata": {},
     "output_type": "execute_result"
    }
   ],
   "source": [
    "np.linalg.norm(o, ord=1)  # norm of order 1"
   ]
  },
  {
   "cell_type": "code",
   "execution_count": 70,
   "metadata": {},
   "outputs": [
    {
     "data": {
      "text/plain": [
       "20.149441679609886"
      ]
     },
     "execution_count": 70,
     "metadata": {},
     "output_type": "execute_result"
    }
   ],
   "source": [
    "np.linalg.norm(o, ord=2)  # norm of order 2 (default)"
   ]
  },
  {
   "cell_type": "code",
   "execution_count": 71,
   "metadata": {},
   "outputs": [
    {
     "data": {
      "text/plain": [
       "array([ 7.48331477, 11.22497216, 14.96662955])"
      ]
     },
     "execution_count": 71,
     "metadata": {},
     "output_type": "execute_result"
    }
   ],
   "source": [
    "np.linalg.norm(o, axis=0)  # along first axis"
   ]
  },
  {
   "cell_type": "code",
   "execution_count": 72,
   "metadata": {},
   "outputs": [
    {
     "data": {
      "text/plain": [
       "array([ 5.38516481, 10.77032961, 16.15549442])"
      ]
     },
     "execution_count": 72,
     "metadata": {},
     "output_type": "execute_result"
    }
   ],
   "source": [
    "np.linalg.norm(o, axis=1)  # along second axis"
   ]
  },
  {
   "cell_type": "code",
   "execution_count": 73,
   "metadata": {},
   "outputs": [
    {
     "data": {
      "text/plain": [
       "array([[-0.99509072, -1.15389226, -0.30471936, -0.06545334],\n",
       "       [-0.59960286,  1.39566608,  0.30820092, -1.25003617],\n",
       "       [ 0.44010462,  0.15839557, -0.01189265, -0.91288725],\n",
       "       [-0.14474732,  0.80546021, -1.88719774, -0.66018244],\n",
       "       [-0.09282123,  0.29722622,  0.42062792, -2.01696625]])"
      ]
     },
     "execution_count": 73,
     "metadata": {},
     "output_type": "execute_result"
    }
   ],
   "source": [
    "arr11 = np.random.randn(5,4)\n",
    "arr11"
   ]
  },
  {
   "cell_type": "code",
   "execution_count": 74,
   "metadata": {},
   "outputs": [
    {
     "name": "stdout",
     "output_type": "stream",
     "text": [
      "-0.31349040271166767\n",
      "-0.31349040271166767\n"
     ]
    }
   ],
   "source": [
    "print (arr11.mean()) # option 1\n",
    "print (np.mean(arr11)) #option 2"
   ]
  },
  {
   "cell_type": "code",
   "execution_count": 75,
   "metadata": {},
   "outputs": [
    {
     "name": "stdout",
     "output_type": "stream",
     "text": [
      "-6.269808054233353\n",
      "-6.269808054233353\n"
     ]
    }
   ],
   "source": [
    "print (arr11.sum() )\n",
    "print (np.sum(arr11))"
   ]
  },
  {
   "cell_type": "code",
   "execution_count": 76,
   "metadata": {},
   "outputs": [
    {
     "data": {
      "text/plain": [
       "array([-0.62978892, -0.03644301, -0.08156993, -0.47166682, -0.34798333])"
      ]
     },
     "execution_count": 76,
     "metadata": {},
     "output_type": "execute_result"
    }
   ],
   "source": [
    "# ROWS Mean\n",
    "arr11.mean(axis = 1)"
   ]
  },
  {
   "cell_type": "code",
   "execution_count": 77,
   "metadata": {},
   "outputs": [
    {
     "data": {
      "text/plain": [
       "array([-0.2784315 ,  0.30057116, -0.29499618, -0.98110509])"
      ]
     },
     "execution_count": 77,
     "metadata": {},
     "output_type": "execute_result"
    }
   ],
   "source": [
    "# COLUMNS Mean\n",
    "arr11.mean(axis = 0)"
   ]
  },
  {
   "cell_type": "code",
   "execution_count": 78,
   "metadata": {},
   "outputs": [
    {
     "data": {
      "text/plain": [
       "array([[1, 2, 3],\n",
       "       [4, 5, 6],\n",
       "       [7, 8, 9]])"
      ]
     },
     "execution_count": 78,
     "metadata": {},
     "output_type": "execute_result"
    }
   ],
   "source": [
    "arr12 = np.array([[1,2,3], [4,5,6], [7,8,9]])\n",
    "arr12"
   ]
  },
  {
   "cell_type": "code",
   "execution_count": 79,
   "metadata": {},
   "outputs": [
    {
     "name": "stdout",
     "output_type": "stream",
     "text": [
      "Cumulative Sum by column\n",
      "[[ 1  2  3]\n",
      " [ 5  7  9]\n",
      " [12 15 18]]\n",
      "Cumulative Sum by row\n",
      "[[ 1  3  6]\n",
      " [ 4  9 15]\n",
      " [ 7 15 24]]\n"
     ]
    }
   ],
   "source": [
    "print ('Cumulative Sum by column')\n",
    "print (arr12.cumsum(0))\n",
    "print ('Cumulative Sum by row')\n",
    "print (arr12.cumsum(1))"
   ]
  },
  {
   "cell_type": "code",
   "execution_count": 80,
   "metadata": {},
   "outputs": [
    {
     "name": "stdout",
     "output_type": "stream",
     "text": [
      "Cumulative Product by column\n",
      "[[  1   2   3]\n",
      " [  4  10  18]\n",
      " [ 28  80 162]]\n",
      "Cumulative Product by row\n",
      "[[  1   2   6]\n",
      " [  4  20 120]\n",
      " [  7  56 504]]\n"
     ]
    }
   ],
   "source": [
    "print ('Cumulative Product by column')\n",
    "print (arr12.cumprod(0))\n",
    "print ('Cumulative Product by row')\n",
    "print (arr12.cumprod(1))"
   ]
  },
  {
   "cell_type": "markdown",
   "metadata": {},
   "source": [
    "### Most common methods:\n",
    "sum,\n",
    "mean,\n",
    "std, var,\n",
    "min,max,\n",
    "argmin, argmax,\n",
    "cumsum,\n",
    "cumprod,\n",
    "exp,\n",
    "sqrt"
   ]
  },
  {
   "cell_type": "markdown",
   "metadata": {},
   "source": [
    "### Arrays comparison"
   ]
  },
  {
   "cell_type": "code",
   "execution_count": 81,
   "metadata": {},
   "outputs": [],
   "source": [
    "arrA = np.random.randn(8)\n",
    "arrB = np.random.randn(8)"
   ]
  },
  {
   "cell_type": "code",
   "execution_count": 82,
   "metadata": {},
   "outputs": [
    {
     "data": {
      "text/plain": [
       "array([-0.52964348,  0.31460586,  0.2135027 ,  0.40842354,  0.84483549,\n",
       "        0.17393352,  0.40669313,  0.28062651])"
      ]
     },
     "execution_count": 82,
     "metadata": {},
     "output_type": "execute_result"
    }
   ],
   "source": [
    "np.maximum(arrA, arrB)"
   ]
  },
  {
   "cell_type": "code",
   "execution_count": 83,
   "metadata": {},
   "outputs": [
    {
     "data": {
      "text/plain": [
       "array([-0.77824953, -0.5976541 ,  0.2135027 , -0.12159159,  0.84483549,\n",
       "        0.17393352, -0.07944577,  0.28062651])"
      ]
     },
     "execution_count": 83,
     "metadata": {},
     "output_type": "execute_result"
    }
   ],
   "source": [
    "arrA"
   ]
  },
  {
   "cell_type": "code",
   "execution_count": 84,
   "metadata": {},
   "outputs": [
    {
     "data": {
      "text/plain": [
       "(array([-0.77824953, -0.5976541 ,  0.2135027 , -0.12159159,  0.84483549,\n",
       "         0.17393352, -0.07944577,  0.28062651]),\n",
       " array([-0., -0.,  0., -0.,  0.,  0., -0.,  0.]))"
      ]
     },
     "execution_count": 84,
     "metadata": {},
     "output_type": "execute_result"
    }
   ],
   "source": [
    "# Integer & Decimal components of a number\n",
    "\n",
    "np.modf(arrA) # it breaks the number into the decimals and the integer components. Creates 2 different arrays"
   ]
  },
  {
   "cell_type": "markdown",
   "metadata": {},
   "source": [
    "### How to create vectors and meshgrid"
   ]
  },
  {
   "cell_type": "code",
   "execution_count": 85,
   "metadata": {},
   "outputs": [],
   "source": [
    "points = np.arange(-1, 1, 0.01) # it creates a 1D vector"
   ]
  },
  {
   "cell_type": "code",
   "execution_count": 86,
   "metadata": {},
   "outputs": [],
   "source": [
    "xs,ys = np.meshgrid(points, points) # it creates a 2D vector combining the 1D\n"
   ]
  },
  {
   "cell_type": "code",
   "execution_count": 87,
   "metadata": {},
   "outputs": [
    {
     "data": {
      "text/plain": [
       "array([[-1.  , -0.99, -0.98, ...,  0.97,  0.98,  0.99],\n",
       "       [-1.  , -0.99, -0.98, ...,  0.97,  0.98,  0.99],\n",
       "       [-1.  , -0.99, -0.98, ...,  0.97,  0.98,  0.99],\n",
       "       ...,\n",
       "       [-1.  , -0.99, -0.98, ...,  0.97,  0.98,  0.99],\n",
       "       [-1.  , -0.99, -0.98, ...,  0.97,  0.98,  0.99],\n",
       "       [-1.  , -0.99, -0.98, ...,  0.97,  0.98,  0.99]])"
      ]
     },
     "execution_count": 87,
     "metadata": {},
     "output_type": "execute_result"
    }
   ],
   "source": [
    "xs"
   ]
  },
  {
   "cell_type": "code",
   "execution_count": 88,
   "metadata": {},
   "outputs": [
    {
     "data": {
      "text/plain": [
       "array([[-1.  , -1.  , -1.  , ..., -1.  , -1.  , -1.  ],\n",
       "       [-0.99, -0.99, -0.99, ..., -0.99, -0.99, -0.99],\n",
       "       [-0.98, -0.98, -0.98, ..., -0.98, -0.98, -0.98],\n",
       "       ...,\n",
       "       [ 0.97,  0.97,  0.97, ...,  0.97,  0.97,  0.97],\n",
       "       [ 0.98,  0.98,  0.98, ...,  0.98,  0.98,  0.98],\n",
       "       [ 0.99,  0.99,  0.99, ...,  0.99,  0.99,  0.99]])"
      ]
     },
     "execution_count": 88,
     "metadata": {},
     "output_type": "execute_result"
    }
   ],
   "source": [
    "ys"
   ]
  },
  {
   "cell_type": "code",
   "execution_count": 89,
   "metadata": {},
   "outputs": [
    {
     "data": {
      "text/plain": [
       "43"
      ]
     },
     "execution_count": 89,
     "metadata": {},
     "output_type": "execute_result"
    }
   ],
   "source": [
    "arr13 = np.random.randn(100)\n",
    "(arr13 > 0).sum() # It only sums those values greater than 0"
   ]
  },
  {
   "cell_type": "code",
   "execution_count": 90,
   "metadata": {},
   "outputs": [],
   "source": [
    "bools = np.array([False, False,True, False])"
   ]
  },
  {
   "cell_type": "code",
   "execution_count": 91,
   "metadata": {},
   "outputs": [
    {
     "data": {
      "text/plain": [
       "True"
      ]
     },
     "execution_count": 91,
     "metadata": {},
     "output_type": "execute_result"
    }
   ],
   "source": [
    "bools.any() # True if at least one True value in the array"
   ]
  },
  {
   "cell_type": "code",
   "execution_count": 92,
   "metadata": {},
   "outputs": [
    {
     "data": {
      "text/plain": [
       "False"
      ]
     },
     "execution_count": 92,
     "metadata": {},
     "output_type": "execute_result"
    }
   ],
   "source": [
    "bools.all() # True only all values are true in the array"
   ]
  },
  {
   "cell_type": "code",
   "execution_count": 93,
   "metadata": {},
   "outputs": [
    {
     "data": {
      "text/plain": [
       "array([0.00211219, 0.15552599, 0.18002785, 0.25979617, 0.34015852,\n",
       "       0.41541814, 0.46976571, 0.63756342])"
      ]
     },
     "execution_count": 93,
     "metadata": {},
     "output_type": "execute_result"
    }
   ],
   "source": [
    "arr14 = np.random.rand(8)\n",
    "arr14.sort()\n",
    "arr14"
   ]
  },
  {
   "cell_type": "code",
   "execution_count": 94,
   "metadata": {},
   "outputs": [],
   "source": [
    "arr15 = np.random.randn(5,3)"
   ]
  },
  {
   "cell_type": "code",
   "execution_count": 95,
   "metadata": {},
   "outputs": [
    {
     "name": "stdout",
     "output_type": "stream",
     "text": [
      "Sort by rows\n",
      "[[-4.60398888e-01  5.47578561e-01  1.77012609e+00]\n",
      " [ 1.42840446e+00  1.56047779e+00  2.50429764e+00]\n",
      " [-2.35772377e-03  1.76136916e-01  4.06531892e-01]\n",
      " [-8.69876047e-01 -6.23879852e-01  7.07181780e-01]\n",
      " [-1.37781197e-01  1.79778164e-01  1.04019306e+00]]\n",
      "Sort by columns\n",
      "[[-8.69876047e-01 -6.23879852e-01  4.06531892e-01]\n",
      " [-4.60398888e-01  1.76136916e-01  7.07181780e-01]\n",
      " [-1.37781197e-01  1.79778164e-01  1.04019306e+00]\n",
      " [-2.35772377e-03  5.47578561e-01  1.77012609e+00]\n",
      " [ 1.42840446e+00  1.56047779e+00  2.50429764e+00]]\n"
     ]
    }
   ],
   "source": [
    "print ('Sort by rows')\n",
    "arr15.sort(1)\n",
    "print (arr15)\n",
    "print ('Sort by columns')\n",
    "arr15.sort(0)\n",
    "print (arr15)"
   ]
  },
  {
   "cell_type": "code",
   "execution_count": 96,
   "metadata": {},
   "outputs": [
    {
     "name": "stdout",
     "output_type": "stream",
     "text": [
      "-1.606594005968314\n",
      "-1.606594005968314\n"
     ]
    }
   ],
   "source": [
    "# quick way to calculate the pencentile 5\n",
    "large_arr = np.random.randn(1000)\n",
    "large_arr.sort()\n",
    "print (large_arr[int(0.05 * len(large_arr))] )\n",
    "print (large_arr[50])"
   ]
  },
  {
   "cell_type": "markdown",
   "metadata": {},
   "source": [
    "### Matrix operations"
   ]
  },
  {
   "cell_type": "code",
   "execution_count": 97,
   "metadata": {},
   "outputs": [],
   "source": [
    "x1 = np.random.randn(5,5)\n",
    "mat = x1.T.dot(x1) # multipliying a matrix by its transpose"
   ]
  },
  {
   "cell_type": "code",
   "execution_count": 98,
   "metadata": {},
   "outputs": [
    {
     "data": {
      "text/plain": [
       "array([[ 2.05464416,  2.53600412,  0.20895716,  1.43369337, -0.88505283],\n",
       "       [ 2.53600412,  8.88790211, -1.42034923,  4.47308999, -3.63006706],\n",
       "       [ 0.20895716, -1.42034923,  0.68751032, -0.5841259 ,  0.62918628],\n",
       "       [ 1.43369337,  4.47308999, -0.5841259 ,  2.48544864, -1.84220026],\n",
       "       [-0.88505283, -3.63006706,  0.62918628, -1.84220026,  1.68615841]])"
      ]
     },
     "execution_count": 98,
     "metadata": {},
     "output_type": "execute_result"
    }
   ],
   "source": [
    "from numpy.linalg import inv, qr\n",
    "\n",
    "inv(mat) # it calculates the inverse of an specific matrix"
   ]
  },
  {
   "cell_type": "code",
   "execution_count": 99,
   "metadata": {},
   "outputs": [
    {
     "data": {
      "text/plain": [
       "array([[ 1.00000000e+00, -3.50009093e-16,  6.55902128e-16,\n",
       "         4.42882315e-16,  1.44210872e-15],\n",
       "       [ 2.62484029e-16,  1.00000000e+00,  1.92405865e-16,\n",
       "        -3.22066450e-16,  6.68419561e-16],\n",
       "       [ 1.49947660e-15, -2.41436664e-15,  1.00000000e+00,\n",
       "        -7.65254877e-16, -1.15971992e-15],\n",
       "       [-1.44049881e-15, -1.63613576e-15,  5.62816749e-16,\n",
       "         1.00000000e+00,  3.88212335e-16],\n",
       "       [ 1.85867960e-15, -1.02689963e-15, -2.13738443e-16,\n",
       "         3.22360256e-15,  1.00000000e+00]])"
      ]
     },
     "execution_count": 99,
     "metadata": {},
     "output_type": "execute_result"
    }
   ],
   "source": [
    "mat.dot(inv(mat))"
   ]
  },
  {
   "cell_type": "code",
   "execution_count": 100,
   "metadata": {},
   "outputs": [
    {
     "data": {
      "text/plain": [
       "array([[-3.83470933,  4.46053082,  7.0543811 , -2.02503368,  2.8842217 ],\n",
       "       [ 0.        , -3.34434477, -0.96712652,  4.59036685, -2.03011564],\n",
       "       [ 0.        ,  0.        , -2.40073339,  2.75915897,  4.30352122],\n",
       "       [ 0.        ,  0.        ,  0.        , -1.98212694, -2.46006453],\n",
       "       [ 0.        ,  0.        ,  0.        ,  0.        ,  0.22036156]])"
      ]
     },
     "execution_count": 100,
     "metadata": {},
     "output_type": "execute_result"
    }
   ],
   "source": [
    "q,r = qr(mat) # it factorizes the matrix\n",
    "r"
   ]
  },
  {
   "cell_type": "markdown",
   "metadata": {},
   "source": [
    "### List of most common numpy linear algebra functions\n",
    "[linear algebra](http://docs.scipy.org/doc/numpy-1.10.0/reference/routines.linalg.html)"
   ]
  },
  {
   "cell_type": "markdown",
   "metadata": {},
   "source": [
    "### List of most common random generation numbers functions\n",
    "[Random generation functions](http://docs.scipy.org/doc/numpy-1.10.0/reference/routines.random.html)"
   ]
  },
  {
   "cell_type": "markdown",
   "metadata": {},
   "source": [
    "### Use of If with Numpy ( Comparable to Excel If )"
   ]
  },
  {
   "cell_type": "code",
   "execution_count": 101,
   "metadata": {},
   "outputs": [
    {
     "data": {
      "text/plain": [
       "array([[-0.85150614, -0.99617036,  0.14155728, -1.29181992],\n",
       "       [ 0.47532534,  0.25931376, -0.65365985,  1.81230053],\n",
       "       [ 1.76964208,  0.4633941 , -0.21840499, -0.69366124],\n",
       "       [-0.11113658,  1.12631028,  0.28103254,  1.77897559]])"
      ]
     },
     "execution_count": 101,
     "metadata": {},
     "output_type": "execute_result"
    }
   ],
   "source": [
    "arr17 = np.random.randn(4,4)\n",
    "arr17"
   ]
  },
  {
   "cell_type": "code",
   "execution_count": 102,
   "metadata": {},
   "outputs": [
    {
     "data": {
      "text/plain": [
       "array([[-2, -2,  2, -2],\n",
       "       [ 2,  2, -2,  2],\n",
       "       [ 2,  2, -2, -2],\n",
       "       [-2,  2,  2,  2]])"
      ]
     },
     "execution_count": 102,
     "metadata": {},
     "output_type": "execute_result"
    }
   ],
   "source": [
    "np.where(arr17 > 0, 2, -2) # typical if where if condition is met do x if not do y"
   ]
  },
  {
   "cell_type": "markdown",
   "metadata": {},
   "source": [
    "### Solving Systems of Linear Equations"
   ]
  },
  {
   "cell_type": "markdown",
   "metadata": {},
   "source": [
    "We are going to solve equations of type:\n",
    "\n",
    "$$\n",
    "a \\cdot x = b\n",
    "$$\n",
    "\n",
    "Consider the system of linear equations which fits the above type:\n",
    "\n",
    "\\begin{eqnarray}\n",
    "a_1^1 \\cdot x_1 + a_1^2 \\cdot x_1 = b_1 \\\\\n",
    "a_2^1 \\cdot x_2 + a_2^2 \\cdot x_2 = b_2\n",
    "\\end{eqnarray}"
   ]
  },
  {
   "cell_type": "markdown",
   "metadata": {},
   "source": [
    "First, matrix $a$."
   ]
  },
  {
   "cell_type": "code",
   "execution_count": 103,
   "metadata": {},
   "outputs": [],
   "source": [
    "a = np.array([[3, 1], [1, 2]])"
   ]
  },
  {
   "cell_type": "markdown",
   "metadata": {},
   "source": [
    "Second, vector $b$."
   ]
  },
  {
   "cell_type": "code",
   "execution_count": 104,
   "metadata": {},
   "outputs": [],
   "source": [
    "b = np.array([9, 8])"
   ]
  },
  {
   "cell_type": "markdown",
   "metadata": {},
   "source": [
    "Third, the solution."
   ]
  },
  {
   "cell_type": "code",
   "execution_count": 105,
   "metadata": {},
   "outputs": [
    {
     "data": {
      "text/plain": [
       "array([2., 3.])"
      ]
     },
     "execution_count": 105,
     "metadata": {},
     "output_type": "execute_result"
    }
   ],
   "source": [
    "x = np.linalg.solve(a, b)\n",
    "x"
   ]
  },
  {
   "cell_type": "code",
   "execution_count": 106,
   "metadata": {},
   "outputs": [
    {
     "name": "stdout",
     "output_type": "stream",
     "text": [
      "[9. 8.]\n",
      "Results matches vector b\n"
     ]
    }
   ],
   "source": [
    "print (np.dot(a, x))  # checking\n",
    "print ('Results matches vector b')"
   ]
  },
  {
   "cell_type": "markdown",
   "metadata": {},
   "source": [
    "### Random Numbers\n",
    "\n",
    "NumPy has powerful pseudo-random number generating functions available. Most of them get covered later. Very often, we use **standard-normally distributed pseudo-random numbers**."
   ]
  },
  {
   "cell_type": "code",
   "execution_count": 107,
   "metadata": {},
   "outputs": [
    {
     "data": {
      "text/plain": [
       "-0.009786370778007038"
      ]
     },
     "execution_count": 107,
     "metadata": {},
     "output_type": "execute_result"
    }
   ],
   "source": [
    "np.random.standard_normal()  # single number"
   ]
  },
  {
   "cell_type": "code",
   "execution_count": 108,
   "metadata": {},
   "outputs": [
    {
     "data": {
      "text/plain": [
       "array([-0.33258356, -0.82955242,  0.20147909,  1.1061677 , -1.3223246 ])"
      ]
     },
     "execution_count": 108,
     "metadata": {},
     "output_type": "execute_result"
    }
   ],
   "source": [
    "np.random.standard_normal(5)  # 1d array"
   ]
  },
  {
   "cell_type": "code",
   "execution_count": 109,
   "metadata": {},
   "outputs": [
    {
     "data": {
      "text/plain": [
       "array([[-0.30863809, -0.36844042,  0.13675558,  0.20960145,  0.43103234,\n",
       "        -0.91858383],\n",
       "       [-0.33008526,  0.19448146,  0.64811923, -0.822809  , -0.46867634,\n",
       "         0.00298305]])"
      ]
     },
     "execution_count": 109,
     "metadata": {},
     "output_type": "execute_result"
    }
   ],
   "source": [
    "a = np.random.standard_normal((2, 6)) * 0.5  # 2d array\n",
    "a"
   ]
  },
  {
   "cell_type": "code",
   "execution_count": 110,
   "metadata": {},
   "outputs": [
    {
     "data": {
      "text/plain": [
       "array([[-0.31, -0.37,  0.14,  0.21,  0.43, -0.92],\n",
       "       [-0.33,  0.19,  0.65, -0.82, -0.47,  0.  ]])"
      ]
     },
     "execution_count": 110,
     "metadata": {},
     "output_type": "execute_result"
    }
   ],
   "source": [
    "np.round(a, 2)"
   ]
  },
  {
   "cell_type": "markdown",
   "metadata": {},
   "source": [
    "### OLS Regression\n",
    "\n",
    "NumPy provides two convenience functions to implement ordinary least squares regression. They are `np.polyfit` and `np.polyval`."
   ]
  },
  {
   "cell_type": "code",
   "execution_count": 189,
   "metadata": {},
   "outputs": [
    {
     "name": "stdout",
     "output_type": "stream",
     "text": [
      "(2, 8)\n"
     ]
    },
    {
     "data": {
      "text/plain": [
       "array([[102.61335395, 105.40163448,  89.95612665,  95.09026764,\n",
       "        101.26684949, 101.76838754, 100.5311263 , 106.78737243],\n",
       "       [100.27400728,  98.59800914, 108.15197338,  93.22161405,\n",
       "        113.37495514, 101.57526129, 109.87743959,  94.49804147]])"
      ]
     },
     "execution_count": 189,
     "metadata": {},
     "output_type": "execute_result"
    }
   ],
   "source": [
    "a = 100 + 5 * np.random.standard_normal((2, 8))\n",
    "print(a.shape)\n",
    "a"
   ]
  },
  {
   "cell_type": "code",
   "execution_count": 112,
   "metadata": {},
   "outputs": [
    {
     "data": {
      "text/plain": [
       "array([ -0.18931377, 117.28794736])"
      ]
     },
     "execution_count": 112,
     "metadata": {},
     "output_type": "execute_result"
    }
   ],
   "source": [
    "reg1 = np.polyfit(a[0],a[1],1) # Linear regression\n",
    "reg1"
   ]
  },
  {
   "cell_type": "code",
   "execution_count": 113,
   "metadata": {},
   "outputs": [
    {
     "data": {
      "text/plain": [
       "array([ 2.22236428e-02, -4.63382086e+00,  3.38782898e+02])"
      ]
     },
     "execution_count": 113,
     "metadata": {},
     "output_type": "execute_result"
    }
   ],
   "source": [
    "reg2 = np.polyfit(a[0],a[1],2) # Cuadratic regression\n",
    "reg2"
   ]
  },
  {
   "cell_type": "code",
   "execution_count": 114,
   "metadata": {},
   "outputs": [
    {
     "data": {
      "text/plain": [
       "array([ 2.64358043e-03, -7.75684984e-01,  7.54700085e+01, -2.33606172e+03])"
      ]
     },
     "execution_count": 114,
     "metadata": {},
     "output_type": "execute_result"
    }
   ],
   "source": [
    "reg3 = np.polyfit(a[0],a[1],3) # Cubic regression\n",
    "reg3"
   ]
  },
  {
   "cell_type": "markdown",
   "metadata": {},
   "source": [
    "Let us plot the regression lines"
   ]
  },
  {
   "cell_type": "code",
   "execution_count": 115,
   "metadata": {},
   "outputs": [
    {
     "data": {
      "image/png": "[encoded data removed]",
      "text/plain": [
       "<Figure size 720x432 with 1 Axes>"
      ]
     },
     "metadata": {},
     "output_type": "display_data"
    }
   ],
   "source": [
    "plt.figure(figsize=(10, 6))\n",
    "plt.plot(a[0], a[1], 'ro');\n",
    "x = np.linspace(a[0].min(), a[0].max(), 100) # It creates 100 evenly distributed data points based on a[0] min to max\n",
    "plt.plot(x, np.polyval(reg1, x), 'b--', label='linear') # polyval evaluates the regression result on each of the 100 data points\n",
    "plt.plot(x, np.polyval(reg2, x), 'm-.', label='quadratic') # provided populating the results of each type of regression\n",
    "plt.plot(x, np.polyval(reg3, x), 'g.', label='cubic')\n",
    "plt.legend();"
   ]
  },
  {
   "cell_type": "code",
   "execution_count": 116,
   "metadata": {},
   "outputs": [
    {
     "data": {
      "text/plain": [
       "array([-4.95595848e-04,  3.40529916e-01, -1.00216245e+02,  1.63750932e+04,\n",
       "       -1.60442425e+06,  9.42643798e+07, -3.07502285e+09,  4.29655367e+10])"
      ]
     },
     "execution_count": 116,
     "metadata": {},
     "output_type": "execute_result"
    }
   ],
   "source": [
    "reg8 = np.polyfit(a[0], a[1], 7)  # perfect regression\n",
    "reg8"
   ]
  },
  {
   "cell_type": "code",
   "execution_count": 117,
   "metadata": {},
   "outputs": [
    {
     "data": {
      "image/png": "[encoded data removed]",
      "text/plain": [
       "<Figure size 720x432 with 1 Axes>"
      ]
     },
     "metadata": {},
     "output_type": "display_data"
    }
   ],
   "source": [
    "plt.figure(figsize=(10, 6))\n",
    "plt.plot(a[0], a[1], 'ro');\n",
    "plt.plot(x, np.polyval(reg8, x), 'b', label='perfect')\n",
    "plt.legend();"
   ]
  },
  {
   "cell_type": "markdown",
   "metadata": {},
   "source": [
    "## Advance Numpy : Simulating Short Rate Processes"
   ]
  },
  {
   "cell_type": "markdown",
   "metadata": {},
   "source": [
    "In this example, we are going to simulate the **Vasicek short rate model** using Python as well as NumPy and vectorization. The SDE of the model is given by:\n",
    "\n",
    "$$\n",
    "dr_t = \\kappa(\\theta - r_t)dt + \\sigma dZ_t\n",
    "$$\n",
    "\n",
    "A possible discretization of the model is given by\n",
    "\n",
    "$$\n",
    "r_t = r_s + \\kappa (\\theta - r_s) \\Delta t + \\sigma \\sqrt{\\Delta t} z_t\n",
    "$$\n",
    "\n",
    "for $s = t - \\Delta t$. $Z_t$ is a standard Brownian motion, $z$ a standard normally distributed rv."
   ]
  },
  {
   "cell_type": "code",
   "execution_count": 118,
   "metadata": {},
   "outputs": [],
   "source": [
    "# All assumptions as Python variables\n",
    "\n",
    "# model parameters\n",
    "r0 = 0.01  # starting value\n",
    "kappa = 1.0  # mean-reversion factor\n",
    "theta = 0.025  # long-term mean\n",
    "sigma = 0.01  # volatiltiy\n",
    "T = 1.0  # time horizon in year fractions\n",
    "# Monte Carlo parameters\n",
    "I = 10  # number of paths\n",
    "M = 15  # number of time intervals\n",
    "dt = T / M  # length of time interval"
   ]
  },
  {
   "cell_type": "markdown",
   "metadata": {},
   "source": [
    "### A Pure Python Version\n",
    "\n",
    "Using import random"
   ]
  },
  {
   "cell_type": "code",
   "execution_count": 119,
   "metadata": {},
   "outputs": [],
   "source": [
    "def vasicek_python(I=I, M=M):\n",
    "    paths = {}\n",
    "    for i in range(I):\n",
    "        path = [r0, ]\n",
    "        for t in range(1, M + 1):\n",
    "            r_t = path[t - 1] + kappa * (theta - path[t - 1]) * dt \\\n",
    "                    + sigma * dt ** 0.5 * random.gauss(0, 1)\n",
    "            path.append(r_t)\n",
    "        paths[i] = path\n",
    "    return paths"
   ]
  },
  {
   "cell_type": "markdown",
   "metadata": {},
   "source": [
    "### Breaking the Vasicek Simulation down\n",
    "\n",
    "Let us start inside out:\n",
    "\n",
    "    1. r_t: It calculates the interest rate value on each point\n",
    "        a. It takes the result of the previous simulation as input --> t -1\n",
    "        b. It uses the outcome of a normal distribution with mean 0 and standard deviation of 1 to add the \n",
    "            stochastic component\n",
    "        c. The rest of the values are just parameters previously provided\n",
    "        d. the result is appended to the path List\n",
    "    2. Re run r_t to get the next value in the path\n",
    "    3. Save all the values of the path in the paths dictionary\n",
    "    4. Run again a full path repeating steps 1 to 4"
   ]
  },
  {
   "cell_type": "code",
   "execution_count": 120,
   "metadata": {},
   "outputs": [
    {
     "name": "stdout",
     "output_type": "stream",
     "text": [
      "Wall time: 0 ns\n"
     ]
    }
   ],
   "source": [
    "paths = vasicek_python(10,15)\n",
    "%time paths = vasicek_python(10,15)"
   ]
  },
  {
   "cell_type": "code",
   "execution_count": 121,
   "metadata": {},
   "outputs": [
    {
     "data": {
      "image/png": "[encoded data removed]",
      "text/plain": [
       "<Figure size 720x432 with 1 Axes>"
      ]
     },
     "metadata": {},
     "output_type": "display_data"
    }
   ],
   "source": [
    "plt.figure(figsize=(10, 6))\n",
    "for i in paths.keys():\n",
    "    plt.plot(paths[i])"
   ]
  },
  {
   "cell_type": "markdown",
   "metadata": {},
   "source": [
    "### The Vectorized NumPy Version\n",
    "\n",
    "Let us run the same function but this time using Numpy vectorization"
   ]
  },
  {
   "cell_type": "code",
   "execution_count": 122,
   "metadata": {},
   "outputs": [
    {
     "data": {
      "text/plain": [
       "array([0.68191792, 1.74435309])"
      ]
     },
     "execution_count": 122,
     "metadata": {},
     "output_type": "execute_result"
    }
   ],
   "source": [
    "np.random.standard_normal(2)"
   ]
  },
  {
   "cell_type": "code",
   "execution_count": 123,
   "metadata": {
    "slideshow": {
     "slide_type": "slide"
    }
   },
   "outputs": [],
   "source": [
    "def vasicek_numpy(I=I, M=M):\n",
    "    paths = np.zeros((M + 1, I)) # matrix has M rows & I columns\n",
    "    paths[0] = r0\n",
    "    for t in range(1, M + 1):\n",
    "        paths[t] = paths[t - 1] + kappa * (theta - paths[t - 1]) * dt \\\n",
    "                    + sigma * dt ** 0.5 * np.random.standard_normal(I)\n",
    "    return paths"
   ]
  },
  {
   "cell_type": "markdown",
   "metadata": {
    "slideshow": {
     "slide_type": "notes"
    }
   },
   "source": [
    "### Breaking down the simulation\n",
    "\n",
    "Numpy uses vectors which offers the ability to run all the values of each step on 1\n",
    "\n",
    "For 15 steps only 15 runs are needs which dramatically reduces processing time"
   ]
  },
  {
   "cell_type": "code",
   "execution_count": 124,
   "metadata": {
    "slideshow": {
     "slide_type": "subslide"
    }
   },
   "outputs": [
    {
     "name": "stdout",
     "output_type": "stream",
     "text": [
      "Wall time: 0 ns\n"
     ]
    }
   ],
   "source": [
    "paths1 = vasicek_numpy(10,15)\n",
    "%time paths1 = vasicek_numpy(10,15)"
   ]
  },
  {
   "cell_type": "code",
   "execution_count": 125,
   "metadata": {
    "slideshow": {
     "slide_type": "subslide"
    }
   },
   "outputs": [
    {
     "data": {
      "image/png": "[encoded data removed]",
      "text/plain": [
       "<Figure size 720x432 with 1 Axes>"
      ]
     },
     "metadata": {},
     "output_type": "display_data"
    }
   ],
   "source": [
    "plt.figure(figsize=(10, 6))\n",
    "plt.plot(paths1);"
   ]
  },
  {
   "cell_type": "code",
   "execution_count": null,
   "metadata": {},
   "outputs": [],
   "source": []
  }
 ],
 "metadata": {
  "celltoolbar": "Slideshow",
  "kernelspec": {
   "display_name": "Python 3",
   "language": "python",
   "name": "python3"
  },
  "language_info": {
   "codemirror_mode": {
    "name": "ipython",
    "version": 3
   },
   "file_extension": ".py",
   "mimetype": "text/x-python",
   "name": "python",
   "nbconvert_exporter": "python",
   "pygments_lexer": "ipython3",
   "version": "3.6.6"
  }
 },
 "nbformat": 4,
 "nbformat_minor": 2
}
