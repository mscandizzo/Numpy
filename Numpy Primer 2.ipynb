{
 "cells": [
  {
   "cell_type": "markdown",
   "metadata": {},
   "source": [
    "### Numpy Primer\n",
    "----------------------"
   ]
  },
  {
   "cell_type": "code",
   "execution_count": 1,
   "metadata": {},
   "outputs": [],
   "source": [
    "import numpy as np\n",
    "import matplotlib.pyplot as plt\n",
    "import seaborn as sns; sns.set()\n",
    "%matplotlib inline\n",
    "import random"
   ]
  },
  {
   "cell_type": "markdown",
   "metadata": {},
   "source": [
    "### Arrays Manipulation\n",
    "----------------------------------------------"
   ]
  },
  {
   "cell_type": "code",
   "execution_count": 2,
   "metadata": {},
   "outputs": [
    {
     "data": {
      "text/plain": [
       "array([0, 1, 2, 3, 4, 5, 6, 7, 8, 9])"
      ]
     },
     "execution_count": 2,
     "metadata": {},
     "output_type": "execute_result"
    }
   ],
   "source": [
    "arr4 = np.arange(10)\n",
    "arr4"
   ]
  },
  {
   "cell_type": "code",
   "execution_count": 3,
   "metadata": {},
   "outputs": [
    {
     "name": "stdout",
     "output_type": "stream",
     "text": [
      "It changes the values of specific positions in the array\n",
      "[ 0  1  2  3  4  5 12 12  8  9]\n",
      "Note: in mathematical terms (6:8], 6 exclusive & 8 inclusive\n"
     ]
    }
   ],
   "source": [
    "print ('It changes the values of specific positions in the array')\n",
    "arr4[6:8] = 12 \n",
    "print (arr4)\n",
    "print ('Note: in mathematical terms (6:8], 6 exclusive & 8 inclusive')"
   ]
  },
  {
   "cell_type": "code",
   "execution_count": 4,
   "metadata": {},
   "outputs": [],
   "source": [
    "arr_slice = arr4[6:8]"
   ]
  },
  {
   "cell_type": "code",
   "execution_count": 5,
   "metadata": {},
   "outputs": [
    {
     "name": "stdout",
     "output_type": "stream",
     "text": [
      "Changes in this array will affect the values of the original array too\n",
      "[   12 12345]\n",
      "Note: keep in mind that by using [1], it is only modifying one element of the subarray\n"
     ]
    }
   ],
   "source": [
    "print ('Changes in this array will affect the values of the original array too')\n",
    "arr_slice[1] = 12345 \n",
    "print (arr_slice)\n",
    "print ('Note: keep in mind that by using [1], it is only modifying one element of the subarray')"
   ]
  },
  {
   "cell_type": "code",
   "execution_count": 6,
   "metadata": {},
   "outputs": [
    {
     "data": {
      "text/plain": [
       "array([    0,     1,     2,     3,     4,     5,    12, 12345,     8,\n",
       "           9])"
      ]
     },
     "execution_count": 6,
     "metadata": {},
     "output_type": "execute_result"
    }
   ],
   "source": [
    "arr4"
   ]
  },
  {
   "cell_type": "code",
   "execution_count": 7,
   "metadata": {},
   "outputs": [],
   "source": [
    "arr_slice[:] = 64 # Changes will affect the source"
   ]
  },
  {
   "cell_type": "code",
   "execution_count": 8,
   "metadata": {},
   "outputs": [
    {
     "data": {
      "text/plain": [
       "array([ 0,  1,  2,  3,  4,  5, 64, 64,  8,  9])"
      ]
     },
     "execution_count": 8,
     "metadata": {},
     "output_type": "execute_result"
    }
   ],
   "source": [
    "arr4"
   ]
  },
  {
   "cell_type": "code",
   "execution_count": 9,
   "metadata": {},
   "outputs": [
    {
     "name": "stdout",
     "output_type": "stream",
     "text": [
      "Full Array\n",
      "[[1 2 3]\n",
      " [4 5 6]\n",
      " [7 8 9]]\n",
      "Sub Array\n",
      "[7 8 9]\n",
      "Single Element\n",
      "9\n"
     ]
    }
   ],
   "source": [
    "arr5 = np.array([[1,2,3],[4,5,6],[7,8,9]]) # Finding elements in the array\n",
    "print ('Full Array')\n",
    "print (arr5)\n",
    "print ('Sub Array')\n",
    "print (arr5[2])\n",
    "print ('Single Element')\n",
    "print (arr5[2][2])"
   ]
  },
  {
   "cell_type": "markdown",
   "metadata": {},
   "source": [
    "### Array notation\n",
    "\n",
    "To retrieve elements you can use [:]\n",
    "\n",
    "        * [x:] : Tells numpy to take the elements AFTER x so it will include x\n",
    "        * [:y] : Tells numpy to take the elments BEFORE y so it won't include y"
   ]
  },
  {
   "cell_type": "code",
   "execution_count": 10,
   "metadata": {},
   "outputs": [
    {
     "data": {
      "text/plain": [
       "array([[1, 2, 3],\n",
       "       [4, 5, 6]])"
      ]
     },
     "execution_count": 10,
     "metadata": {},
     "output_type": "execute_result"
    }
   ],
   "source": [
    "arr5[:2]"
   ]
  },
  {
   "cell_type": "code",
   "execution_count": 11,
   "metadata": {},
   "outputs": [
    {
     "name": "stdout",
     "output_type": "stream",
     "text": [
      "Here the filtering is at arrays level\n",
      "Note: the array positions start from 1 not from 0\n",
      "[[4 5 6]]\n"
     ]
    }
   ],
   "source": [
    "print ('Here the filtering is at arrays level')\n",
    "print ('Note: the array positions start from 1 not from 0')\n",
    "print (arr5[:2][1:] )"
   ]
  },
  {
   "cell_type": "code",
   "execution_count": 12,
   "metadata": {},
   "outputs": [
    {
     "name": "stdout",
     "output_type": "stream",
     "text": [
      "Here the 1st filter is array level, the 2nd filters the elements of the arrays selected\n"
     ]
    },
    {
     "data": {
      "text/plain": [
       "array([[2, 3],\n",
       "       [5, 6]])"
      ]
     },
     "execution_count": 12,
     "metadata": {},
     "output_type": "execute_result"
    }
   ],
   "source": [
    "print ('Here the 1st filter is array level, the 2nd filters the elements of the arrays selected')\n",
    "arr5[:2, 1:] "
   ]
  },
  {
   "cell_type": "code",
   "execution_count": 13,
   "metadata": {},
   "outputs": [
    {
     "name": "stdout",
     "output_type": "stream",
     "text": [
      "This will basicalle take the first subelement of all the first level elements\n",
      "[[1]\n",
      " [4]\n",
      " [7]]\n",
      "[1 4 7]\n"
     ]
    }
   ],
   "source": [
    "print ('This will basicalle take the first subelement of all the first level elements')\n",
    "print (arr5[:,:1] )\n",
    "print (arr5[:,0] )"
   ]
  },
  {
   "cell_type": "code",
   "execution_count": 14,
   "metadata": {},
   "outputs": [
    {
     "name": "stdout",
     "output_type": "stream",
     "text": [
      "Searching for matching values between arrays\n",
      "in1d returns boolean results (True, False) if matching values are found\n"
     ]
    },
    {
     "data": {
      "text/plain": [
       "array([ True, False, False,  True,  True, False,  True])"
      ]
     },
     "execution_count": 14,
     "metadata": {},
     "output_type": "execute_result"
    }
   ],
   "source": [
    "print('Searching for matching values between arrays')\n",
    "print('in1d returns boolean results (True, False) if matching values are found')\n",
    "\n",
    "values = np.array([6,0,0,3,2,5,6])\n",
    "np.in1d(values,[2,3,6])"
   ]
  },
  {
   "cell_type": "code",
   "execution_count": 15,
   "metadata": {},
   "outputs": [
    {
     "data": {
      "text/plain": [
       "array([[ 0.00558313,  1.72616804, -0.47341446, -1.14358375],\n",
       "       [ 0.56061491, -0.11275766, -0.48563052, -0.4596297 ],\n",
       "       [-0.21465064,  0.10772796,  2.78365934,  0.99170247],\n",
       "       [-0.50588169,  0.4830533 , -0.41062352,  0.49042928],\n",
       "       [-0.67434111, -0.14273455, -0.68503345, -0.34162872],\n",
       "       [-1.24185182,  0.63360036, -1.04475162,  1.09843835],\n",
       "       [ 0.84277111, -0.12438186,  0.32091235, -1.69102065]])"
      ]
     },
     "execution_count": 15,
     "metadata": {},
     "output_type": "execute_result"
    }
   ],
   "source": [
    "data1 = np.random.randn(7,4)\n",
    "data1"
   ]
  },
  {
   "cell_type": "code",
   "execution_count": 16,
   "metadata": {},
   "outputs": [],
   "source": [
    "names = np.array(['Bob', 'Joe', 'Will', 'Bob', 'Will', 'Joe', 'Joe'])"
   ]
  },
  {
   "cell_type": "code",
   "execution_count": 17,
   "metadata": {},
   "outputs": [
    {
     "name": "stdout",
     "output_type": "stream",
     "text": [
      "Searching for specific element within an array --> Boleean outcome\n"
     ]
    },
    {
     "data": {
      "text/plain": [
       "array([ True, False, False,  True, False, False, False])"
      ]
     },
     "execution_count": 17,
     "metadata": {},
     "output_type": "execute_result"
    }
   ],
   "source": [
    "print('Searching for specific element within an array --> Boleean outcome')\n",
    "\n",
    "names == 'Bob'"
   ]
  },
  {
   "cell_type": "code",
   "execution_count": 18,
   "metadata": {},
   "outputs": [
    {
     "data": {
      "text/plain": [
       "array(['Bob', 'Joe', 'Will'], dtype='<U4')"
      ]
     },
     "execution_count": 18,
     "metadata": {},
     "output_type": "execute_result"
    }
   ],
   "source": [
    "np.unique(names)"
   ]
  },
  {
   "cell_type": "code",
   "execution_count": 19,
   "metadata": {},
   "outputs": [
    {
     "data": {
      "text/plain": [
       "array([[ 0.00558313,  1.72616804, -0.47341446, -1.14358375],\n",
       "       [-0.50588169,  0.4830533 , -0.41062352,  0.49042928]])"
      ]
     },
     "execution_count": 19,
     "metadata": {},
     "output_type": "execute_result"
    }
   ],
   "source": [
    "data1[names == 'Bob'] "
   ]
  },
  {
   "cell_type": "markdown",
   "metadata": {},
   "source": [
    "If you look at the text array the 1st & 4th Elements are true while the rest are false.\n",
    "\n",
    "The data1 array is 7 x 4 matrix, so the columns lenght match the number of elements in the names array.\n",
    "\n",
    "Python will select the 1st & 4th Element on each column"
   ]
  },
  {
   "cell_type": "code",
   "execution_count": 20,
   "metadata": {},
   "outputs": [
    {
     "data": {
      "text/plain": [
       "array([[-0.47341446, -1.14358375],\n",
       "       [-0.41062352,  0.49042928]])"
      ]
     },
     "execution_count": 20,
     "metadata": {},
     "output_type": "execute_result"
    }
   ],
   "source": [
    "data1[names == 'Bob', 2:] # once applied the boolean logic I only pick the values from 2 column onwards"
   ]
  },
  {
   "cell_type": "code",
   "execution_count": 21,
   "metadata": {},
   "outputs": [
    {
     "data": {
      "text/plain": [
       "array([0.49042928])"
      ]
     },
     "execution_count": 21,
     "metadata": {},
     "output_type": "execute_result"
    }
   ],
   "source": [
    "data1[names == 'Bob', 3:][1] # further selection to pick one exact element"
   ]
  },
  {
   "cell_type": "code",
   "execution_count": 22,
   "metadata": {},
   "outputs": [
    {
     "data": {
      "text/plain": [
       "array([[-1.83619552e+00,  2.62020322e+00,  6.32679195e-01,\n",
       "         6.97129463e-01,  4.91791601e-01,  1.22729255e+00,\n",
       "         1.35662386e+00],\n",
       "       [ 5.63366768e-01, -3.50100056e-04,  2.42120573e+00,\n",
       "         4.40576166e-01, -7.98883770e-01,  5.49200512e-01,\n",
       "         1.26601994e+00],\n",
       "       [ 9.17614529e-01,  1.31889759e+00, -1.13519481e+00,\n",
       "        -5.83733522e-01, -9.72846459e-01,  6.43431107e-01,\n",
       "         7.14153076e-02],\n",
       "       [-1.30783744e-01,  2.24041978e-01, -3.27907899e-01,\n",
       "        -4.63760189e-01,  1.20788275e+00,  1.40731512e+00,\n",
       "        -4.14729478e-01],\n",
       "       [-5.71325488e-01, -1.04974076e+00,  4.42873319e-01,\n",
       "         3.19669452e-01,  2.97864950e-03, -9.58264901e-01,\n",
       "        -1.87358834e+00],\n",
       "       [-8.21514846e-01,  6.47764995e-01,  1.37017584e-01,\n",
       "         1.69735165e+00,  5.07859752e-02, -2.14917712e-02,\n",
       "        -1.58076217e+00],\n",
       "       [ 1.16232603e+00, -1.02697862e+00,  1.50346769e+00,\n",
       "        -7.18317163e-03,  1.02317690e+00, -1.15967693e+00,\n",
       "        -2.65354775e-02]])"
      ]
     },
     "execution_count": 22,
     "metadata": {},
     "output_type": "execute_result"
    }
   ],
   "source": [
    "data2 = np.random.randn(7,7)\n",
    "data2"
   ]
  },
  {
   "cell_type": "code",
   "execution_count": 23,
   "metadata": {},
   "outputs": [
    {
     "data": {
      "text/plain": [
       "array([[-1.83619552,  2.62020322,  0.6326792 ,  0.69712946,  0.4917916 ,\n",
       "         1.22729255,  1.35662386],\n",
       "       [-0.13078374,  0.22404198, -0.3279079 , -0.46376019,  1.20788275,\n",
       "         1.40731512, -0.41472948]])"
      ]
     },
     "execution_count": 23,
     "metadata": {},
     "output_type": "execute_result"
    }
   ],
   "source": [
    "data2[names == 'Bob'] "
   ]
  },
  {
   "cell_type": "markdown",
   "metadata": {},
   "source": [
    "The data2 array is a 7 x 7 Matrix so now Python will select the 1st & 4th elements by row"
   ]
  },
  {
   "cell_type": "code",
   "execution_count": 24,
   "metadata": {},
   "outputs": [
    {
     "data": {
      "text/plain": [
       "array([ True, False,  True,  True,  True, False, False])"
      ]
     },
     "execution_count": 24,
     "metadata": {},
     "output_type": "execute_result"
    }
   ],
   "source": [
    "mask = (names == 'Bob')|(names == 'Will') # the operator | means OR \n",
    "mask"
   ]
  },
  {
   "cell_type": "code",
   "execution_count": 25,
   "metadata": {},
   "outputs": [
    {
     "data": {
      "text/plain": [
       "array([[ 0.00558313,  1.72616804, -0.47341446, -1.14358375],\n",
       "       [-0.21465064,  0.10772796,  2.78365934,  0.99170247],\n",
       "       [-0.50588169,  0.4830533 , -0.41062352,  0.49042928],\n",
       "       [-0.67434111, -0.14273455, -0.68503345, -0.34162872]])"
      ]
     },
     "execution_count": 25,
     "metadata": {},
     "output_type": "execute_result"
    }
   ],
   "source": [
    "data1[(names == 'Bob')|(names == 'Will')] \n",
    "# It selects the 1st, 3rd, 4th & 5th element by column"
   ]
  },
  {
   "cell_type": "markdown",
   "metadata": {},
   "source": [
    "### How to select elements from an Array & assign specific values to them"
   ]
  },
  {
   "cell_type": "code",
   "execution_count": 26,
   "metadata": {},
   "outputs": [
    {
     "data": {
      "text/plain": [
       "array([[0.00558313, 1.72616804, 0.        , 0.        ],\n",
       "       [0.56061491, 0.        , 0.        , 0.        ],\n",
       "       [0.        , 0.10772796, 2.78365934, 0.99170247],\n",
       "       [0.        , 0.4830533 , 0.        , 0.49042928],\n",
       "       [0.        , 0.        , 0.        , 0.        ],\n",
       "       [0.        , 0.63360036, 0.        , 1.09843835],\n",
       "       [0.84277111, 0.        , 0.32091235, 0.        ]])"
      ]
     },
     "execution_count": 26,
     "metadata": {},
     "output_type": "execute_result"
    }
   ],
   "source": [
    "data1[data1 <0] = 0\n",
    "data1"
   ]
  },
  {
   "cell_type": "code",
   "execution_count": 27,
   "metadata": {},
   "outputs": [
    {
     "data": {
      "text/plain": [
       "array([[7.        , 7.        , 7.        , 7.        ],\n",
       "       [0.56061491, 0.        , 0.        , 0.        ],\n",
       "       [0.        , 0.10772796, 2.78365934, 0.99170247],\n",
       "       [7.        , 7.        , 7.        , 7.        ],\n",
       "       [0.        , 0.        , 0.        , 0.        ],\n",
       "       [0.        , 0.63360036, 0.        , 1.09843835],\n",
       "       [0.84277111, 0.        , 0.32091235, 0.        ]])"
      ]
     },
     "execution_count": 27,
     "metadata": {},
     "output_type": "execute_result"
    }
   ],
   "source": [
    "# The matching True values for one array \n",
    "# can be used to filter/match values on a different array\n",
    "data1[names == 'Bob'] = 7 # When you found a value which is True you replace with a 7\n",
    "data1"
   ]
  },
  {
   "cell_type": "code",
   "execution_count": 28,
   "metadata": {},
   "outputs": [
    {
     "data": {
      "text/plain": [
       "array([[ 4.03808205e+202,  3.11271150e+207,  5.48445839e+202,\n",
       "         2.01188999e+289],\n",
       "       [-3.42738679e-294,  4.76493877e+202,  8.43573793e-304,\n",
       "         7.13607504e+279],\n",
       "       [ 5.99774817e+180,  1.39806877e-152,  2.58634777e+161,\n",
       "         4.95267817e+223],\n",
       "       [ 1.14484109e+243,  4.01760777e+242,  3.93545339e-310,\n",
       "         1.20544719e+301],\n",
       "       [ 1.05345486e-311,  1.75393304e-321,  2.17292369e-311,\n",
       "         2.84381388e-308],\n",
       "       [ 4.05069862e-249,  2.21717752e-301,  2.88020268e+002,\n",
       "         2.09657710e-305],\n",
       "       [ 1.13233957e-309,  2.88000000e+002,  1.36752682e-312,\n",
       "         1.05067988e-304],\n",
       "       [ 7.26303107e-297,  2.82767975e+097,  1.17568804e+214,\n",
       "         5.80222660e+180]])"
      ]
     },
     "execution_count": 28,
     "metadata": {},
     "output_type": "execute_result"
    }
   ],
   "source": [
    "arr6 = np.empty([8,4]) # It creates an empty array\n",
    "arr6\n",
    "# The array it is actually empty the values are not 0 altough the graphical representation seems like it"
   ]
  },
  {
   "cell_type": "code",
   "execution_count": 29,
   "metadata": {},
   "outputs": [
    {
     "data": {
      "text/plain": [
       "array([[0., 0., 0., 0.],\n",
       "       [1., 1., 1., 1.],\n",
       "       [2., 2., 2., 2.],\n",
       "       [3., 3., 3., 3.],\n",
       "       [4., 4., 4., 4.],\n",
       "       [5., 5., 5., 5.],\n",
       "       [6., 6., 6., 6.],\n",
       "       [7., 7., 7., 7.]])"
      ]
     },
     "execution_count": 29,
     "metadata": {},
     "output_type": "execute_result"
    }
   ],
   "source": [
    "# Fill an array by rows\n",
    "\n",
    "for i in range(8):\n",
    "    arr6[i] = i # what i am doing is assigning i to each of the elements in each row in the array\n",
    "arr6"
   ]
  },
  {
   "cell_type": "code",
   "execution_count": 30,
   "metadata": {},
   "outputs": [
    {
     "data": {
      "text/plain": [
       "array([[4., 4., 4., 4.],\n",
       "       [3., 3., 3., 3.],\n",
       "       [0., 0., 0., 0.],\n",
       "       [6., 6., 6., 6.]])"
      ]
     },
     "execution_count": 30,
     "metadata": {},
     "output_type": "execute_result"
    }
   ],
   "source": [
    "arr6[[4,3,0,6]] # it selects the rows I am requesting"
   ]
  },
  {
   "cell_type": "code",
   "execution_count": 31,
   "metadata": {},
   "outputs": [
    {
     "data": {
      "text/plain": [
       "array([[5., 5., 5., 5.],\n",
       "       [3., 3., 3., 3.],\n",
       "       [1., 1., 1., 1.]])"
      ]
     },
     "execution_count": 31,
     "metadata": {},
     "output_type": "execute_result"
    }
   ],
   "source": [
    "arr6[[-3,-5,-7]] # it selects the rows but in this case starting from the bottom"
   ]
  },
  {
   "cell_type": "code",
   "execution_count": 32,
   "metadata": {},
   "outputs": [
    {
     "data": {
      "text/plain": [
       "array([[0., 1., 2., 3.],\n",
       "       [0., 1., 2., 3.],\n",
       "       [0., 1., 2., 3.],\n",
       "       [0., 1., 2., 3.],\n",
       "       [0., 1., 2., 3.],\n",
       "       [0., 1., 2., 3.],\n",
       "       [0., 1., 2., 3.],\n",
       "       [0., 1., 2., 3.]])"
      ]
     },
     "execution_count": 32,
     "metadata": {},
     "output_type": "execute_result"
    }
   ],
   "source": [
    "# Fill an array by columns\n",
    "\n",
    "for i in range(4):\n",
    "    arr6[:,i] = i # in this case I assigning the same value to the elements in the column instead of the row\n",
    "arr6"
   ]
  },
  {
   "cell_type": "code",
   "execution_count": 33,
   "metadata": {},
   "outputs": [
    {
     "data": {
      "text/plain": [
       "array([[ 0,  1,  2,  3],\n",
       "       [ 4,  5,  6,  7],\n",
       "       [ 8,  9, 10, 11],\n",
       "       [12, 13, 14, 15],\n",
       "       [16, 17, 18, 19],\n",
       "       [20, 21, 22, 23],\n",
       "       [24, 25, 26, 27],\n",
       "       [28, 29, 30, 31]])"
      ]
     },
     "execution_count": 33,
     "metadata": {},
     "output_type": "execute_result"
    }
   ],
   "source": [
    "arr7 = np.arange(32).reshape(8,4) \n",
    "# It takes a sequence of values and converts them into a matrix\n",
    "arr7"
   ]
  },
  {
   "cell_type": "code",
   "execution_count": 34,
   "metadata": {},
   "outputs": [
    {
     "name": "stdout",
     "output_type": "stream",
     "text": [
      "4\n",
      "4\n"
     ]
    }
   ],
   "source": [
    "# How to select an element in an array\n",
    "print (arr7[1,0] )\n",
    "print (arr7[1][0])"
   ]
  },
  {
   "cell_type": "code",
   "execution_count": 35,
   "metadata": {},
   "outputs": [
    {
     "name": "stdout",
     "output_type": "stream",
     "text": [
      "[ 4 23 29 10]\n",
      "4\n",
      "23\n",
      "29\n",
      "10\n"
     ]
    }
   ],
   "source": [
    "print (arr7[[1,5,7,2], # this vector gives you the row position\n",
    "     [0,3,1,2]]) # the vector gives you the column position\n",
    "\n",
    "# It is equivalent to individually select:\n",
    "print (arr7[1,0])\n",
    "print (arr7[5,3])\n",
    "print (arr7[7,1])\n",
    "print (arr7[2,2])"
   ]
  },
  {
   "cell_type": "markdown",
   "metadata": {},
   "source": [
    "### Select sub arrays and change their order"
   ]
  },
  {
   "cell_type": "code",
   "execution_count": 36,
   "metadata": {},
   "outputs": [
    {
     "data": {
      "text/plain": [
       "array([[ 4,  7,  5,  6],\n",
       "       [20, 23, 21, 22],\n",
       "       [28, 31, 29, 30],\n",
       "       [ 8, 11,  9, 10]])"
      ]
     },
     "execution_count": 36,
     "metadata": {},
     "output_type": "execute_result"
    }
   ],
   "source": [
    "# The 1st vector picks rows and the 2nd one scramble the numbers on each row\n",
    "arr7[[1,5,7,2]][:,[0,3,1,2]] "
   ]
  },
  {
   "cell_type": "code",
   "execution_count": 37,
   "metadata": {},
   "outputs": [
    {
     "data": {
      "text/plain": [
       "array([[ 4,  7,  5,  6],\n",
       "       [20, 23, 21, 22],\n",
       "       [28, 31, 29, 30],\n",
       "       [ 8, 11,  9, 10]])"
      ]
     },
     "execution_count": 37,
     "metadata": {},
     "output_type": "execute_result"
    }
   ],
   "source": [
    "# same as previous but using a built in function\n",
    "arr7[np.ix_([1,5,7,2], [0,3,1,2])] "
   ]
  },
  {
   "cell_type": "code",
   "execution_count": 38,
   "metadata": {},
   "outputs": [
    {
     "data": {
      "text/plain": [
       "array([[ 0,  1,  2,  3,  4],\n",
       "       [ 5,  6,  7,  8,  9],\n",
       "       [10, 11, 12, 13, 14]])"
      ]
     },
     "execution_count": 38,
     "metadata": {},
     "output_type": "execute_result"
    }
   ],
   "source": [
    "arr8 = np.arange(15).reshape((3,5))\n",
    "arr8"
   ]
  },
  {
   "cell_type": "code",
   "execution_count": 39,
   "metadata": {},
   "outputs": [
    {
     "data": {
      "text/plain": [
       "array([[ 0,  5, 10],\n",
       "       [ 1,  6, 11],\n",
       "       [ 2,  7, 12],\n",
       "       [ 3,  8, 13],\n",
       "       [ 4,  9, 14]])"
      ]
     },
     "execution_count": 39,
     "metadata": {},
     "output_type": "execute_result"
    }
   ],
   "source": [
    "arr8.T # The T method transposes the array, don't forget it is an array not a matrix"
   ]
  },
  {
   "cell_type": "code",
   "execution_count": 40,
   "metadata": {},
   "outputs": [
    {
     "data": {
      "text/plain": [
       "array([[ 1.37967355, -1.39350555,  0.38400034],\n",
       "       [ 0.73707738,  0.97012161,  1.70557009],\n",
       "       [-0.52884934,  1.10293448, -0.28278835],\n",
       "       [ 1.3494537 , -0.91483551,  0.98410998],\n",
       "       [-0.50475021,  0.41358321,  1.13086559],\n",
       "       [ 1.18905681,  0.06063326,  0.98881795]])"
      ]
     },
     "execution_count": 40,
     "metadata": {},
     "output_type": "execute_result"
    }
   ],
   "source": [
    "arr9 = np.random.randn(6,3)\n",
    "arr9"
   ]
  },
  {
   "cell_type": "code",
   "execution_count": 41,
   "metadata": {},
   "outputs": [
    {
     "data": {
      "text/plain": [
       "array([[ 6.21611797, -3.16200222,  3.86945161],\n",
       "       [-3.16200222,  5.11110961,  0.43497029],\n",
       "       [ 3.86945161,  0.43497029,  6.36148522]])"
      ]
     },
     "execution_count": 41,
     "metadata": {},
     "output_type": "execute_result"
    }
   ],
   "source": [
    "np.dot(arr9.T, arr9) # Matrix multiplication"
   ]
  },
  {
   "cell_type": "code",
   "execution_count": 42,
   "metadata": {},
   "outputs": [
    {
     "data": {
      "text/plain": [
       "array([[[ 0,  1,  2,  3],\n",
       "        [ 4,  5,  6,  7]],\n",
       "\n",
       "       [[ 8,  9, 10, 11],\n",
       "        [12, 13, 14, 15]]])"
      ]
     },
     "execution_count": 42,
     "metadata": {},
     "output_type": "execute_result"
    }
   ],
   "source": [
    "arr10 = np.arange(16).reshape((2,2,4)) # This is a Tensor\n",
    "# Notation: (2,2,4)\n",
    "# 2: number of vectors\n",
    "# 2: number of rows\n",
    "# 4: number of columns\n",
    "arr10"
   ]
  },
  {
   "cell_type": "code",
   "execution_count": 43,
   "metadata": {},
   "outputs": [
    {
     "data": {
      "text/plain": [
       "array([[[ 0,  4],\n",
       "        [ 1,  5],\n",
       "        [ 2,  6],\n",
       "        [ 3,  7]],\n",
       "\n",
       "       [[ 8, 12],\n",
       "        [ 9, 13],\n",
       "        [10, 14],\n",
       "        [11, 15]]])"
      ]
     },
     "execution_count": 43,
     "metadata": {},
     "output_type": "execute_result"
    }
   ],
   "source": [
    "arr10.swapaxes(1,2) # it swaps the axis of the vectors"
   ]
  }
 ],
 "metadata": {
  "celltoolbar": "Slideshow",
  "kernelspec": {
   "display_name": "Python 3",
   "language": "python",
   "name": "python3"
  },
  "language_info": {
   "codemirror_mode": {
    "name": "ipython",
    "version": 3
   },
   "file_extension": ".py",
   "mimetype": "text/x-python",
   "name": "python",
   "nbconvert_exporter": "python",
   "pygments_lexer": "ipython3",
   "version": "3.6.6"
  }
 },
 "nbformat": 4,
 "nbformat_minor": 2
}
